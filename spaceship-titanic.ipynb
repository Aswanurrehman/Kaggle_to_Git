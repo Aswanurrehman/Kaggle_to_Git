{
 "cells": [
  {
   "cell_type": "code",
   "execution_count": 1,
   "id": "156b7db9",
   "metadata": {
    "execution": {
     "iopub.execute_input": "2022-10-03T04:27:48.048298Z",
     "iopub.status.busy": "2022-10-03T04:27:48.047545Z",
     "iopub.status.idle": "2022-10-03T04:27:48.056912Z",
     "shell.execute_reply": "2022-10-03T04:27:48.056066Z"
    },
    "papermill": {
     "duration": 0.041566,
     "end_time": "2022-10-03T04:27:48.059386",
     "exception": false,
     "start_time": "2022-10-03T04:27:48.017820",
     "status": "completed"
    },
    "tags": []
   },
   "outputs": [],
   "source": [
    "import numpy as np\n",
    "import pandas as pd"
   ]
  },
  {
   "cell_type": "code",
   "execution_count": 2,
   "id": "59e9b137",
   "metadata": {
    "execution": {
     "iopub.execute_input": "2022-10-03T04:27:48.104177Z",
     "iopub.status.busy": "2022-10-03T04:27:48.103490Z",
     "iopub.status.idle": "2022-10-03T04:27:49.154995Z",
     "shell.execute_reply": "2022-10-03T04:27:49.154034Z"
    },
    "papermill": {
     "duration": 1.07643,
     "end_time": "2022-10-03T04:27:49.157843",
     "exception": false,
     "start_time": "2022-10-03T04:27:48.081413",
     "status": "completed"
    },
    "tags": []
   },
   "outputs": [],
   "source": [
    "import matplotlib.pyplot as plt\n",
    "import seaborn as sns"
   ]
  },
  {
   "cell_type": "code",
   "execution_count": 3,
   "id": "9b2d0e4a",
   "metadata": {
    "execution": {
     "iopub.execute_input": "2022-10-03T04:27:49.202218Z",
     "iopub.status.busy": "2022-10-03T04:27:49.201788Z",
     "iopub.status.idle": "2022-10-03T04:27:49.271346Z",
     "shell.execute_reply": "2022-10-03T04:27:49.269946Z"
    },
    "papermill": {
     "duration": 0.095382,
     "end_time": "2022-10-03T04:27:49.275074",
     "exception": false,
     "start_time": "2022-10-03T04:27:49.179692",
     "status": "completed"
    },
    "tags": []
   },
   "outputs": [],
   "source": [
    "train = pd.read_csv('../input/spaceship-titanic/train.csv')"
   ]
  },
  {
   "cell_type": "code",
   "execution_count": 4,
   "id": "68b10eb4",
   "metadata": {
    "execution": {
     "iopub.execute_input": "2022-10-03T04:27:49.326834Z",
     "iopub.status.busy": "2022-10-03T04:27:49.325769Z",
     "iopub.status.idle": "2022-10-03T04:27:49.366390Z",
     "shell.execute_reply": "2022-10-03T04:27:49.365314Z"
    },
    "papermill": {
     "duration": 0.068313,
     "end_time": "2022-10-03T04:27:49.369955",
     "exception": false,
     "start_time": "2022-10-03T04:27:49.301642",
     "status": "completed"
    },
    "tags": []
   },
   "outputs": [
    {
     "data": {
      "text/html": [
       "<div>\n",
       "<style scoped>\n",
       "    .dataframe tbody tr th:only-of-type {\n",
       "        vertical-align: middle;\n",
       "    }\n",
       "\n",
       "    .dataframe tbody tr th {\n",
       "        vertical-align: top;\n",
       "    }\n",
       "\n",
       "    .dataframe thead th {\n",
       "        text-align: right;\n",
       "    }\n",
       "</style>\n",
       "<table border=\"1\" class=\"dataframe\">\n",
       "  <thead>\n",
       "    <tr style=\"text-align: right;\">\n",
       "      <th></th>\n",
       "      <th>PassengerId</th>\n",
       "      <th>HomePlanet</th>\n",
       "      <th>CryoSleep</th>\n",
       "      <th>Cabin</th>\n",
       "      <th>Destination</th>\n",
       "      <th>Age</th>\n",
       "      <th>VIP</th>\n",
       "      <th>RoomService</th>\n",
       "      <th>FoodCourt</th>\n",
       "      <th>ShoppingMall</th>\n",
       "      <th>Spa</th>\n",
       "      <th>VRDeck</th>\n",
       "      <th>Name</th>\n",
       "      <th>Transported</th>\n",
       "    </tr>\n",
       "  </thead>\n",
       "  <tbody>\n",
       "    <tr>\n",
       "      <th>0</th>\n",
       "      <td>0001_01</td>\n",
       "      <td>Europa</td>\n",
       "      <td>False</td>\n",
       "      <td>B/0/P</td>\n",
       "      <td>TRAPPIST-1e</td>\n",
       "      <td>39.0</td>\n",
       "      <td>False</td>\n",
       "      <td>0.0</td>\n",
       "      <td>0.0</td>\n",
       "      <td>0.0</td>\n",
       "      <td>0.0</td>\n",
       "      <td>0.0</td>\n",
       "      <td>Maham Ofracculy</td>\n",
       "      <td>False</td>\n",
       "    </tr>\n",
       "    <tr>\n",
       "      <th>1</th>\n",
       "      <td>0002_01</td>\n",
       "      <td>Earth</td>\n",
       "      <td>False</td>\n",
       "      <td>F/0/S</td>\n",
       "      <td>TRAPPIST-1e</td>\n",
       "      <td>24.0</td>\n",
       "      <td>False</td>\n",
       "      <td>109.0</td>\n",
       "      <td>9.0</td>\n",
       "      <td>25.0</td>\n",
       "      <td>549.0</td>\n",
       "      <td>44.0</td>\n",
       "      <td>Juanna Vines</td>\n",
       "      <td>True</td>\n",
       "    </tr>\n",
       "    <tr>\n",
       "      <th>2</th>\n",
       "      <td>0003_01</td>\n",
       "      <td>Europa</td>\n",
       "      <td>False</td>\n",
       "      <td>A/0/S</td>\n",
       "      <td>TRAPPIST-1e</td>\n",
       "      <td>58.0</td>\n",
       "      <td>True</td>\n",
       "      <td>43.0</td>\n",
       "      <td>3576.0</td>\n",
       "      <td>0.0</td>\n",
       "      <td>6715.0</td>\n",
       "      <td>49.0</td>\n",
       "      <td>Altark Susent</td>\n",
       "      <td>False</td>\n",
       "    </tr>\n",
       "    <tr>\n",
       "      <th>3</th>\n",
       "      <td>0003_02</td>\n",
       "      <td>Europa</td>\n",
       "      <td>False</td>\n",
       "      <td>A/0/S</td>\n",
       "      <td>TRAPPIST-1e</td>\n",
       "      <td>33.0</td>\n",
       "      <td>False</td>\n",
       "      <td>0.0</td>\n",
       "      <td>1283.0</td>\n",
       "      <td>371.0</td>\n",
       "      <td>3329.0</td>\n",
       "      <td>193.0</td>\n",
       "      <td>Solam Susent</td>\n",
       "      <td>False</td>\n",
       "    </tr>\n",
       "    <tr>\n",
       "      <th>4</th>\n",
       "      <td>0004_01</td>\n",
       "      <td>Earth</td>\n",
       "      <td>False</td>\n",
       "      <td>F/1/S</td>\n",
       "      <td>TRAPPIST-1e</td>\n",
       "      <td>16.0</td>\n",
       "      <td>False</td>\n",
       "      <td>303.0</td>\n",
       "      <td>70.0</td>\n",
       "      <td>151.0</td>\n",
       "      <td>565.0</td>\n",
       "      <td>2.0</td>\n",
       "      <td>Willy Santantines</td>\n",
       "      <td>True</td>\n",
       "    </tr>\n",
       "    <tr>\n",
       "      <th>...</th>\n",
       "      <td>...</td>\n",
       "      <td>...</td>\n",
       "      <td>...</td>\n",
       "      <td>...</td>\n",
       "      <td>...</td>\n",
       "      <td>...</td>\n",
       "      <td>...</td>\n",
       "      <td>...</td>\n",
       "      <td>...</td>\n",
       "      <td>...</td>\n",
       "      <td>...</td>\n",
       "      <td>...</td>\n",
       "      <td>...</td>\n",
       "      <td>...</td>\n",
       "    </tr>\n",
       "    <tr>\n",
       "      <th>8688</th>\n",
       "      <td>9276_01</td>\n",
       "      <td>Europa</td>\n",
       "      <td>False</td>\n",
       "      <td>A/98/P</td>\n",
       "      <td>55 Cancri e</td>\n",
       "      <td>41.0</td>\n",
       "      <td>True</td>\n",
       "      <td>0.0</td>\n",
       "      <td>6819.0</td>\n",
       "      <td>0.0</td>\n",
       "      <td>1643.0</td>\n",
       "      <td>74.0</td>\n",
       "      <td>Gravior Noxnuther</td>\n",
       "      <td>False</td>\n",
       "    </tr>\n",
       "    <tr>\n",
       "      <th>8689</th>\n",
       "      <td>9278_01</td>\n",
       "      <td>Earth</td>\n",
       "      <td>True</td>\n",
       "      <td>G/1499/S</td>\n",
       "      <td>PSO J318.5-22</td>\n",
       "      <td>18.0</td>\n",
       "      <td>False</td>\n",
       "      <td>0.0</td>\n",
       "      <td>0.0</td>\n",
       "      <td>0.0</td>\n",
       "      <td>0.0</td>\n",
       "      <td>0.0</td>\n",
       "      <td>Kurta Mondalley</td>\n",
       "      <td>False</td>\n",
       "    </tr>\n",
       "    <tr>\n",
       "      <th>8690</th>\n",
       "      <td>9279_01</td>\n",
       "      <td>Earth</td>\n",
       "      <td>False</td>\n",
       "      <td>G/1500/S</td>\n",
       "      <td>TRAPPIST-1e</td>\n",
       "      <td>26.0</td>\n",
       "      <td>False</td>\n",
       "      <td>0.0</td>\n",
       "      <td>0.0</td>\n",
       "      <td>1872.0</td>\n",
       "      <td>1.0</td>\n",
       "      <td>0.0</td>\n",
       "      <td>Fayey Connon</td>\n",
       "      <td>True</td>\n",
       "    </tr>\n",
       "    <tr>\n",
       "      <th>8691</th>\n",
       "      <td>9280_01</td>\n",
       "      <td>Europa</td>\n",
       "      <td>False</td>\n",
       "      <td>E/608/S</td>\n",
       "      <td>55 Cancri e</td>\n",
       "      <td>32.0</td>\n",
       "      <td>False</td>\n",
       "      <td>0.0</td>\n",
       "      <td>1049.0</td>\n",
       "      <td>0.0</td>\n",
       "      <td>353.0</td>\n",
       "      <td>3235.0</td>\n",
       "      <td>Celeon Hontichre</td>\n",
       "      <td>False</td>\n",
       "    </tr>\n",
       "    <tr>\n",
       "      <th>8692</th>\n",
       "      <td>9280_02</td>\n",
       "      <td>Europa</td>\n",
       "      <td>False</td>\n",
       "      <td>E/608/S</td>\n",
       "      <td>TRAPPIST-1e</td>\n",
       "      <td>44.0</td>\n",
       "      <td>False</td>\n",
       "      <td>126.0</td>\n",
       "      <td>4688.0</td>\n",
       "      <td>0.0</td>\n",
       "      <td>0.0</td>\n",
       "      <td>12.0</td>\n",
       "      <td>Propsh Hontichre</td>\n",
       "      <td>True</td>\n",
       "    </tr>\n",
       "  </tbody>\n",
       "</table>\n",
       "<p>8693 rows × 14 columns</p>\n",
       "</div>"
      ],
      "text/plain": [
       "     PassengerId HomePlanet CryoSleep     Cabin    Destination   Age    VIP  \\\n",
       "0        0001_01     Europa     False     B/0/P    TRAPPIST-1e  39.0  False   \n",
       "1        0002_01      Earth     False     F/0/S    TRAPPIST-1e  24.0  False   \n",
       "2        0003_01     Europa     False     A/0/S    TRAPPIST-1e  58.0   True   \n",
       "3        0003_02     Europa     False     A/0/S    TRAPPIST-1e  33.0  False   \n",
       "4        0004_01      Earth     False     F/1/S    TRAPPIST-1e  16.0  False   \n",
       "...          ...        ...       ...       ...            ...   ...    ...   \n",
       "8688     9276_01     Europa     False    A/98/P    55 Cancri e  41.0   True   \n",
       "8689     9278_01      Earth      True  G/1499/S  PSO J318.5-22  18.0  False   \n",
       "8690     9279_01      Earth     False  G/1500/S    TRAPPIST-1e  26.0  False   \n",
       "8691     9280_01     Europa     False   E/608/S    55 Cancri e  32.0  False   \n",
       "8692     9280_02     Europa     False   E/608/S    TRAPPIST-1e  44.0  False   \n",
       "\n",
       "      RoomService  FoodCourt  ShoppingMall     Spa  VRDeck               Name  \\\n",
       "0             0.0        0.0           0.0     0.0     0.0    Maham Ofracculy   \n",
       "1           109.0        9.0          25.0   549.0    44.0       Juanna Vines   \n",
       "2            43.0     3576.0           0.0  6715.0    49.0      Altark Susent   \n",
       "3             0.0     1283.0         371.0  3329.0   193.0       Solam Susent   \n",
       "4           303.0       70.0         151.0   565.0     2.0  Willy Santantines   \n",
       "...           ...        ...           ...     ...     ...                ...   \n",
       "8688          0.0     6819.0           0.0  1643.0    74.0  Gravior Noxnuther   \n",
       "8689          0.0        0.0           0.0     0.0     0.0    Kurta Mondalley   \n",
       "8690          0.0        0.0        1872.0     1.0     0.0       Fayey Connon   \n",
       "8691          0.0     1049.0           0.0   353.0  3235.0   Celeon Hontichre   \n",
       "8692        126.0     4688.0           0.0     0.0    12.0   Propsh Hontichre   \n",
       "\n",
       "      Transported  \n",
       "0           False  \n",
       "1            True  \n",
       "2           False  \n",
       "3           False  \n",
       "4            True  \n",
       "...           ...  \n",
       "8688        False  \n",
       "8689        False  \n",
       "8690         True  \n",
       "8691        False  \n",
       "8692         True  \n",
       "\n",
       "[8693 rows x 14 columns]"
      ]
     },
     "execution_count": 4,
     "metadata": {},
     "output_type": "execute_result"
    }
   ],
   "source": [
    "train"
   ]
  },
  {
   "cell_type": "code",
   "execution_count": 5,
   "id": "e65292c7",
   "metadata": {
    "execution": {
     "iopub.execute_input": "2022-10-03T04:27:49.413767Z",
     "iopub.status.busy": "2022-10-03T04:27:49.413390Z",
     "iopub.status.idle": "2022-10-03T04:27:49.454386Z",
     "shell.execute_reply": "2022-10-03T04:27:49.453238Z"
    },
    "papermill": {
     "duration": 0.065775,
     "end_time": "2022-10-03T04:27:49.456793",
     "exception": false,
     "start_time": "2022-10-03T04:27:49.391018",
     "status": "completed"
    },
    "tags": []
   },
   "outputs": [
    {
     "data": {
      "text/html": [
       "<div>\n",
       "<style scoped>\n",
       "    .dataframe tbody tr th:only-of-type {\n",
       "        vertical-align: middle;\n",
       "    }\n",
       "\n",
       "    .dataframe tbody tr th {\n",
       "        vertical-align: top;\n",
       "    }\n",
       "\n",
       "    .dataframe thead th {\n",
       "        text-align: right;\n",
       "    }\n",
       "</style>\n",
       "<table border=\"1\" class=\"dataframe\">\n",
       "  <thead>\n",
       "    <tr style=\"text-align: right;\">\n",
       "      <th></th>\n",
       "      <th>Age</th>\n",
       "      <th>RoomService</th>\n",
       "      <th>FoodCourt</th>\n",
       "      <th>ShoppingMall</th>\n",
       "      <th>Spa</th>\n",
       "      <th>VRDeck</th>\n",
       "    </tr>\n",
       "  </thead>\n",
       "  <tbody>\n",
       "    <tr>\n",
       "      <th>count</th>\n",
       "      <td>8514.000000</td>\n",
       "      <td>8512.000000</td>\n",
       "      <td>8510.000000</td>\n",
       "      <td>8485.000000</td>\n",
       "      <td>8510.000000</td>\n",
       "      <td>8505.000000</td>\n",
       "    </tr>\n",
       "    <tr>\n",
       "      <th>mean</th>\n",
       "      <td>28.827930</td>\n",
       "      <td>224.687617</td>\n",
       "      <td>458.077203</td>\n",
       "      <td>173.729169</td>\n",
       "      <td>311.138778</td>\n",
       "      <td>304.854791</td>\n",
       "    </tr>\n",
       "    <tr>\n",
       "      <th>std</th>\n",
       "      <td>14.489021</td>\n",
       "      <td>666.717663</td>\n",
       "      <td>1611.489240</td>\n",
       "      <td>604.696458</td>\n",
       "      <td>1136.705535</td>\n",
       "      <td>1145.717189</td>\n",
       "    </tr>\n",
       "    <tr>\n",
       "      <th>min</th>\n",
       "      <td>0.000000</td>\n",
       "      <td>0.000000</td>\n",
       "      <td>0.000000</td>\n",
       "      <td>0.000000</td>\n",
       "      <td>0.000000</td>\n",
       "      <td>0.000000</td>\n",
       "    </tr>\n",
       "    <tr>\n",
       "      <th>25%</th>\n",
       "      <td>19.000000</td>\n",
       "      <td>0.000000</td>\n",
       "      <td>0.000000</td>\n",
       "      <td>0.000000</td>\n",
       "      <td>0.000000</td>\n",
       "      <td>0.000000</td>\n",
       "    </tr>\n",
       "    <tr>\n",
       "      <th>50%</th>\n",
       "      <td>27.000000</td>\n",
       "      <td>0.000000</td>\n",
       "      <td>0.000000</td>\n",
       "      <td>0.000000</td>\n",
       "      <td>0.000000</td>\n",
       "      <td>0.000000</td>\n",
       "    </tr>\n",
       "    <tr>\n",
       "      <th>75%</th>\n",
       "      <td>38.000000</td>\n",
       "      <td>47.000000</td>\n",
       "      <td>76.000000</td>\n",
       "      <td>27.000000</td>\n",
       "      <td>59.000000</td>\n",
       "      <td>46.000000</td>\n",
       "    </tr>\n",
       "    <tr>\n",
       "      <th>max</th>\n",
       "      <td>79.000000</td>\n",
       "      <td>14327.000000</td>\n",
       "      <td>29813.000000</td>\n",
       "      <td>23492.000000</td>\n",
       "      <td>22408.000000</td>\n",
       "      <td>24133.000000</td>\n",
       "    </tr>\n",
       "  </tbody>\n",
       "</table>\n",
       "</div>"
      ],
      "text/plain": [
       "               Age   RoomService     FoodCourt  ShoppingMall           Spa  \\\n",
       "count  8514.000000   8512.000000   8510.000000   8485.000000   8510.000000   \n",
       "mean     28.827930    224.687617    458.077203    173.729169    311.138778   \n",
       "std      14.489021    666.717663   1611.489240    604.696458   1136.705535   \n",
       "min       0.000000      0.000000      0.000000      0.000000      0.000000   \n",
       "25%      19.000000      0.000000      0.000000      0.000000      0.000000   \n",
       "50%      27.000000      0.000000      0.000000      0.000000      0.000000   \n",
       "75%      38.000000     47.000000     76.000000     27.000000     59.000000   \n",
       "max      79.000000  14327.000000  29813.000000  23492.000000  22408.000000   \n",
       "\n",
       "             VRDeck  \n",
       "count   8505.000000  \n",
       "mean     304.854791  \n",
       "std     1145.717189  \n",
       "min        0.000000  \n",
       "25%        0.000000  \n",
       "50%        0.000000  \n",
       "75%       46.000000  \n",
       "max    24133.000000  "
      ]
     },
     "execution_count": 5,
     "metadata": {},
     "output_type": "execute_result"
    }
   ],
   "source": [
    "train.describe()"
   ]
  },
  {
   "cell_type": "code",
   "execution_count": 6,
   "id": "581a4fcd",
   "metadata": {
    "execution": {
     "iopub.execute_input": "2022-10-03T04:27:49.502104Z",
     "iopub.status.busy": "2022-10-03T04:27:49.501031Z",
     "iopub.status.idle": "2022-10-03T04:27:49.521782Z",
     "shell.execute_reply": "2022-10-03T04:27:49.520889Z"
    },
    "papermill": {
     "duration": 0.046601,
     "end_time": "2022-10-03T04:27:49.524771",
     "exception": false,
     "start_time": "2022-10-03T04:27:49.478170",
     "status": "completed"
    },
    "tags": []
   },
   "outputs": [
    {
     "name": "stdout",
     "output_type": "stream",
     "text": [
      "<class 'pandas.core.frame.DataFrame'>\n",
      "RangeIndex: 8693 entries, 0 to 8692\n",
      "Data columns (total 14 columns):\n",
      " #   Column        Non-Null Count  Dtype  \n",
      "---  ------        --------------  -----  \n",
      " 0   PassengerId   8693 non-null   object \n",
      " 1   HomePlanet    8492 non-null   object \n",
      " 2   CryoSleep     8476 non-null   object \n",
      " 3   Cabin         8494 non-null   object \n",
      " 4   Destination   8511 non-null   object \n",
      " 5   Age           8514 non-null   float64\n",
      " 6   VIP           8490 non-null   object \n",
      " 7   RoomService   8512 non-null   float64\n",
      " 8   FoodCourt     8510 non-null   float64\n",
      " 9   ShoppingMall  8485 non-null   float64\n",
      " 10  Spa           8510 non-null   float64\n",
      " 11  VRDeck        8505 non-null   float64\n",
      " 12  Name          8493 non-null   object \n",
      " 13  Transported   8693 non-null   bool   \n",
      "dtypes: bool(1), float64(6), object(7)\n",
      "memory usage: 891.5+ KB\n"
     ]
    }
   ],
   "source": [
    "train.info()"
   ]
  },
  {
   "cell_type": "code",
   "execution_count": 7,
   "id": "3c564a71",
   "metadata": {
    "execution": {
     "iopub.execute_input": "2022-10-03T04:27:49.571141Z",
     "iopub.status.busy": "2022-10-03T04:27:49.570712Z",
     "iopub.status.idle": "2022-10-03T04:27:49.583342Z",
     "shell.execute_reply": "2022-10-03T04:27:49.582019Z"
    },
    "papermill": {
     "duration": 0.037846,
     "end_time": "2022-10-03T04:27:49.585823",
     "exception": false,
     "start_time": "2022-10-03T04:27:49.547977",
     "status": "completed"
    },
    "tags": []
   },
   "outputs": [
    {
     "data": {
      "text/plain": [
       "PassengerId       0\n",
       "HomePlanet      201\n",
       "CryoSleep       217\n",
       "Cabin           199\n",
       "Destination     182\n",
       "Age             179\n",
       "VIP             203\n",
       "RoomService     181\n",
       "FoodCourt       183\n",
       "ShoppingMall    208\n",
       "Spa             183\n",
       "VRDeck          188\n",
       "Name            200\n",
       "Transported       0\n",
       "dtype: int64"
      ]
     },
     "execution_count": 7,
     "metadata": {},
     "output_type": "execute_result"
    }
   ],
   "source": [
    "train.isna().sum()"
   ]
  },
  {
   "cell_type": "code",
   "execution_count": 8,
   "id": "f55d4a22",
   "metadata": {
    "execution": {
     "iopub.execute_input": "2022-10-03T04:27:49.631978Z",
     "iopub.status.busy": "2022-10-03T04:27:49.631151Z",
     "iopub.status.idle": "2022-10-03T04:27:49.677194Z",
     "shell.execute_reply": "2022-10-03T04:27:49.676309Z"
    },
    "papermill": {
     "duration": 0.072099,
     "end_time": "2022-10-03T04:27:49.679752",
     "exception": false,
     "start_time": "2022-10-03T04:27:49.607653",
     "status": "completed"
    },
    "tags": []
   },
   "outputs": [],
   "source": [
    "test = pd.read_csv(\"/kaggle/input/spaceship-titanic/test.csv\")\n",
    "submission = pd.read_csv(\"/kaggle/input/spaceship-titanic/sample_submission.csv\")"
   ]
  },
  {
   "cell_type": "code",
   "execution_count": 9,
   "id": "cd1002e5",
   "metadata": {
    "execution": {
     "iopub.execute_input": "2022-10-03T04:27:49.725456Z",
     "iopub.status.busy": "2022-10-03T04:27:49.724666Z",
     "iopub.status.idle": "2022-10-03T04:27:49.755088Z",
     "shell.execute_reply": "2022-10-03T04:27:49.753763Z"
    },
    "papermill": {
     "duration": 0.056154,
     "end_time": "2022-10-03T04:27:49.757739",
     "exception": false,
     "start_time": "2022-10-03T04:27:49.701585",
     "status": "completed"
    },
    "tags": []
   },
   "outputs": [
    {
     "data": {
      "text/html": [
       "<div>\n",
       "<style scoped>\n",
       "    .dataframe tbody tr th:only-of-type {\n",
       "        vertical-align: middle;\n",
       "    }\n",
       "\n",
       "    .dataframe tbody tr th {\n",
       "        vertical-align: top;\n",
       "    }\n",
       "\n",
       "    .dataframe thead th {\n",
       "        text-align: right;\n",
       "    }\n",
       "</style>\n",
       "<table border=\"1\" class=\"dataframe\">\n",
       "  <thead>\n",
       "    <tr style=\"text-align: right;\">\n",
       "      <th></th>\n",
       "      <th>Age</th>\n",
       "      <th>RoomService</th>\n",
       "      <th>FoodCourt</th>\n",
       "      <th>ShoppingMall</th>\n",
       "      <th>Spa</th>\n",
       "      <th>VRDeck</th>\n",
       "    </tr>\n",
       "  </thead>\n",
       "  <tbody>\n",
       "    <tr>\n",
       "      <th>count</th>\n",
       "      <td>4186.000000</td>\n",
       "      <td>4195.000000</td>\n",
       "      <td>4171.000000</td>\n",
       "      <td>4179.000000</td>\n",
       "      <td>4176.000000</td>\n",
       "      <td>4197.000000</td>\n",
       "    </tr>\n",
       "    <tr>\n",
       "      <th>mean</th>\n",
       "      <td>28.658146</td>\n",
       "      <td>219.266269</td>\n",
       "      <td>439.484296</td>\n",
       "      <td>177.295525</td>\n",
       "      <td>303.052443</td>\n",
       "      <td>310.710031</td>\n",
       "    </tr>\n",
       "    <tr>\n",
       "      <th>std</th>\n",
       "      <td>14.179072</td>\n",
       "      <td>607.011289</td>\n",
       "      <td>1527.663045</td>\n",
       "      <td>560.821123</td>\n",
       "      <td>1117.186015</td>\n",
       "      <td>1246.994742</td>\n",
       "    </tr>\n",
       "    <tr>\n",
       "      <th>min</th>\n",
       "      <td>0.000000</td>\n",
       "      <td>0.000000</td>\n",
       "      <td>0.000000</td>\n",
       "      <td>0.000000</td>\n",
       "      <td>0.000000</td>\n",
       "      <td>0.000000</td>\n",
       "    </tr>\n",
       "    <tr>\n",
       "      <th>25%</th>\n",
       "      <td>19.000000</td>\n",
       "      <td>0.000000</td>\n",
       "      <td>0.000000</td>\n",
       "      <td>0.000000</td>\n",
       "      <td>0.000000</td>\n",
       "      <td>0.000000</td>\n",
       "    </tr>\n",
       "    <tr>\n",
       "      <th>50%</th>\n",
       "      <td>26.000000</td>\n",
       "      <td>0.000000</td>\n",
       "      <td>0.000000</td>\n",
       "      <td>0.000000</td>\n",
       "      <td>0.000000</td>\n",
       "      <td>0.000000</td>\n",
       "    </tr>\n",
       "    <tr>\n",
       "      <th>75%</th>\n",
       "      <td>37.000000</td>\n",
       "      <td>53.000000</td>\n",
       "      <td>78.000000</td>\n",
       "      <td>33.000000</td>\n",
       "      <td>50.000000</td>\n",
       "      <td>36.000000</td>\n",
       "    </tr>\n",
       "    <tr>\n",
       "      <th>max</th>\n",
       "      <td>79.000000</td>\n",
       "      <td>11567.000000</td>\n",
       "      <td>25273.000000</td>\n",
       "      <td>8292.000000</td>\n",
       "      <td>19844.000000</td>\n",
       "      <td>22272.000000</td>\n",
       "    </tr>\n",
       "  </tbody>\n",
       "</table>\n",
       "</div>"
      ],
      "text/plain": [
       "               Age   RoomService     FoodCourt  ShoppingMall           Spa  \\\n",
       "count  4186.000000   4195.000000   4171.000000   4179.000000   4176.000000   \n",
       "mean     28.658146    219.266269    439.484296    177.295525    303.052443   \n",
       "std      14.179072    607.011289   1527.663045    560.821123   1117.186015   \n",
       "min       0.000000      0.000000      0.000000      0.000000      0.000000   \n",
       "25%      19.000000      0.000000      0.000000      0.000000      0.000000   \n",
       "50%      26.000000      0.000000      0.000000      0.000000      0.000000   \n",
       "75%      37.000000     53.000000     78.000000     33.000000     50.000000   \n",
       "max      79.000000  11567.000000  25273.000000   8292.000000  19844.000000   \n",
       "\n",
       "             VRDeck  \n",
       "count   4197.000000  \n",
       "mean     310.710031  \n",
       "std     1246.994742  \n",
       "min        0.000000  \n",
       "25%        0.000000  \n",
       "50%        0.000000  \n",
       "75%       36.000000  \n",
       "max    22272.000000  "
      ]
     },
     "execution_count": 9,
     "metadata": {},
     "output_type": "execute_result"
    }
   ],
   "source": [
    "test.describe()"
   ]
  },
  {
   "cell_type": "code",
   "execution_count": 10,
   "id": "093aa3de",
   "metadata": {
    "execution": {
     "iopub.execute_input": "2022-10-03T04:27:49.804447Z",
     "iopub.status.busy": "2022-10-03T04:27:49.803609Z",
     "iopub.status.idle": "2022-10-03T04:27:49.818984Z",
     "shell.execute_reply": "2022-10-03T04:27:49.817217Z"
    },
    "papermill": {
     "duration": 0.043303,
     "end_time": "2022-10-03T04:27:49.823292",
     "exception": false,
     "start_time": "2022-10-03T04:27:49.779989",
     "status": "completed"
    },
    "tags": []
   },
   "outputs": [
    {
     "name": "stdout",
     "output_type": "stream",
     "text": [
      "<class 'pandas.core.frame.DataFrame'>\n",
      "RangeIndex: 4277 entries, 0 to 4276\n",
      "Data columns (total 13 columns):\n",
      " #   Column        Non-Null Count  Dtype  \n",
      "---  ------        --------------  -----  \n",
      " 0   PassengerId   4277 non-null   object \n",
      " 1   HomePlanet    4190 non-null   object \n",
      " 2   CryoSleep     4184 non-null   object \n",
      " 3   Cabin         4177 non-null   object \n",
      " 4   Destination   4185 non-null   object \n",
      " 5   Age           4186 non-null   float64\n",
      " 6   VIP           4184 non-null   object \n",
      " 7   RoomService   4195 non-null   float64\n",
      " 8   FoodCourt     4171 non-null   float64\n",
      " 9   ShoppingMall  4179 non-null   float64\n",
      " 10  Spa           4176 non-null   float64\n",
      " 11  VRDeck        4197 non-null   float64\n",
      " 12  Name          4183 non-null   object \n",
      "dtypes: float64(6), object(7)\n",
      "memory usage: 434.5+ KB\n"
     ]
    }
   ],
   "source": [
    "test.info()"
   ]
  },
  {
   "cell_type": "code",
   "execution_count": 11,
   "id": "b6496205",
   "metadata": {
    "execution": {
     "iopub.execute_input": "2022-10-03T04:27:49.870897Z",
     "iopub.status.busy": "2022-10-03T04:27:49.869693Z",
     "iopub.status.idle": "2022-10-03T04:27:49.882879Z",
     "shell.execute_reply": "2022-10-03T04:27:49.881800Z"
    },
    "papermill": {
     "duration": 0.038899,
     "end_time": "2022-10-03T04:27:49.885343",
     "exception": false,
     "start_time": "2022-10-03T04:27:49.846444",
     "status": "completed"
    },
    "tags": []
   },
   "outputs": [
    {
     "data": {
      "text/html": [
       "<div>\n",
       "<style scoped>\n",
       "    .dataframe tbody tr th:only-of-type {\n",
       "        vertical-align: middle;\n",
       "    }\n",
       "\n",
       "    .dataframe tbody tr th {\n",
       "        vertical-align: top;\n",
       "    }\n",
       "\n",
       "    .dataframe thead th {\n",
       "        text-align: right;\n",
       "    }\n",
       "</style>\n",
       "<table border=\"1\" class=\"dataframe\">\n",
       "  <thead>\n",
       "    <tr style=\"text-align: right;\">\n",
       "      <th></th>\n",
       "      <th>PassengerId</th>\n",
       "      <th>Transported</th>\n",
       "    </tr>\n",
       "  </thead>\n",
       "  <tbody>\n",
       "    <tr>\n",
       "      <th>0</th>\n",
       "      <td>0013_01</td>\n",
       "      <td>False</td>\n",
       "    </tr>\n",
       "    <tr>\n",
       "      <th>1</th>\n",
       "      <td>0018_01</td>\n",
       "      <td>False</td>\n",
       "    </tr>\n",
       "    <tr>\n",
       "      <th>2</th>\n",
       "      <td>0019_01</td>\n",
       "      <td>False</td>\n",
       "    </tr>\n",
       "    <tr>\n",
       "      <th>3</th>\n",
       "      <td>0021_01</td>\n",
       "      <td>False</td>\n",
       "    </tr>\n",
       "    <tr>\n",
       "      <th>4</th>\n",
       "      <td>0023_01</td>\n",
       "      <td>False</td>\n",
       "    </tr>\n",
       "    <tr>\n",
       "      <th>...</th>\n",
       "      <td>...</td>\n",
       "      <td>...</td>\n",
       "    </tr>\n",
       "    <tr>\n",
       "      <th>4272</th>\n",
       "      <td>9266_02</td>\n",
       "      <td>False</td>\n",
       "    </tr>\n",
       "    <tr>\n",
       "      <th>4273</th>\n",
       "      <td>9269_01</td>\n",
       "      <td>False</td>\n",
       "    </tr>\n",
       "    <tr>\n",
       "      <th>4274</th>\n",
       "      <td>9271_01</td>\n",
       "      <td>False</td>\n",
       "    </tr>\n",
       "    <tr>\n",
       "      <th>4275</th>\n",
       "      <td>9273_01</td>\n",
       "      <td>False</td>\n",
       "    </tr>\n",
       "    <tr>\n",
       "      <th>4276</th>\n",
       "      <td>9277_01</td>\n",
       "      <td>False</td>\n",
       "    </tr>\n",
       "  </tbody>\n",
       "</table>\n",
       "<p>4277 rows × 2 columns</p>\n",
       "</div>"
      ],
      "text/plain": [
       "     PassengerId  Transported\n",
       "0        0013_01        False\n",
       "1        0018_01        False\n",
       "2        0019_01        False\n",
       "3        0021_01        False\n",
       "4        0023_01        False\n",
       "...          ...          ...\n",
       "4272     9266_02        False\n",
       "4273     9269_01        False\n",
       "4274     9271_01        False\n",
       "4275     9273_01        False\n",
       "4276     9277_01        False\n",
       "\n",
       "[4277 rows x 2 columns]"
      ]
     },
     "execution_count": 11,
     "metadata": {},
     "output_type": "execute_result"
    }
   ],
   "source": [
    "submission"
   ]
  },
  {
   "cell_type": "code",
   "execution_count": 12,
   "id": "ab7f79db",
   "metadata": {
    "execution": {
     "iopub.execute_input": "2022-10-03T04:27:49.931453Z",
     "iopub.status.busy": "2022-10-03T04:27:49.931057Z",
     "iopub.status.idle": "2022-10-03T04:27:49.968470Z",
     "shell.execute_reply": "2022-10-03T04:27:49.967348Z"
    },
    "papermill": {
     "duration": 0.063637,
     "end_time": "2022-10-03T04:27:49.971125",
     "exception": false,
     "start_time": "2022-10-03T04:27:49.907488",
     "status": "completed"
    },
    "tags": []
   },
   "outputs": [
    {
     "data": {
      "text/html": [
       "<div>\n",
       "<style scoped>\n",
       "    .dataframe tbody tr th:only-of-type {\n",
       "        vertical-align: middle;\n",
       "    }\n",
       "\n",
       "    .dataframe tbody tr th {\n",
       "        vertical-align: top;\n",
       "    }\n",
       "\n",
       "    .dataframe thead th {\n",
       "        text-align: right;\n",
       "    }\n",
       "</style>\n",
       "<table border=\"1\" class=\"dataframe\">\n",
       "  <thead>\n",
       "    <tr style=\"text-align: right;\">\n",
       "      <th></th>\n",
       "      <th>PassengerId</th>\n",
       "      <th>HomePlanet</th>\n",
       "      <th>CryoSleep</th>\n",
       "      <th>Cabin</th>\n",
       "      <th>Destination</th>\n",
       "      <th>Age</th>\n",
       "      <th>VIP</th>\n",
       "      <th>RoomService</th>\n",
       "      <th>FoodCourt</th>\n",
       "      <th>ShoppingMall</th>\n",
       "      <th>Spa</th>\n",
       "      <th>VRDeck</th>\n",
       "      <th>Name</th>\n",
       "      <th>Transported</th>\n",
       "    </tr>\n",
       "  </thead>\n",
       "  <tbody>\n",
       "    <tr>\n",
       "      <th>0</th>\n",
       "      <td>0001_01</td>\n",
       "      <td>Europa</td>\n",
       "      <td>False</td>\n",
       "      <td>B/0/P</td>\n",
       "      <td>TRAPPIST-1e</td>\n",
       "      <td>39.0</td>\n",
       "      <td>False</td>\n",
       "      <td>0.0</td>\n",
       "      <td>0.0</td>\n",
       "      <td>0.0</td>\n",
       "      <td>0.0</td>\n",
       "      <td>0.0</td>\n",
       "      <td>Maham Ofracculy</td>\n",
       "      <td>False</td>\n",
       "    </tr>\n",
       "    <tr>\n",
       "      <th>1</th>\n",
       "      <td>0002_01</td>\n",
       "      <td>Earth</td>\n",
       "      <td>False</td>\n",
       "      <td>F/0/S</td>\n",
       "      <td>TRAPPIST-1e</td>\n",
       "      <td>24.0</td>\n",
       "      <td>False</td>\n",
       "      <td>109.0</td>\n",
       "      <td>9.0</td>\n",
       "      <td>25.0</td>\n",
       "      <td>549.0</td>\n",
       "      <td>44.0</td>\n",
       "      <td>Juanna Vines</td>\n",
       "      <td>True</td>\n",
       "    </tr>\n",
       "    <tr>\n",
       "      <th>2</th>\n",
       "      <td>0003_01</td>\n",
       "      <td>Europa</td>\n",
       "      <td>False</td>\n",
       "      <td>A/0/S</td>\n",
       "      <td>TRAPPIST-1e</td>\n",
       "      <td>58.0</td>\n",
       "      <td>True</td>\n",
       "      <td>43.0</td>\n",
       "      <td>3576.0</td>\n",
       "      <td>0.0</td>\n",
       "      <td>6715.0</td>\n",
       "      <td>49.0</td>\n",
       "      <td>Altark Susent</td>\n",
       "      <td>False</td>\n",
       "    </tr>\n",
       "    <tr>\n",
       "      <th>3</th>\n",
       "      <td>0003_02</td>\n",
       "      <td>Europa</td>\n",
       "      <td>False</td>\n",
       "      <td>A/0/S</td>\n",
       "      <td>TRAPPIST-1e</td>\n",
       "      <td>33.0</td>\n",
       "      <td>False</td>\n",
       "      <td>0.0</td>\n",
       "      <td>1283.0</td>\n",
       "      <td>371.0</td>\n",
       "      <td>3329.0</td>\n",
       "      <td>193.0</td>\n",
       "      <td>Solam Susent</td>\n",
       "      <td>False</td>\n",
       "    </tr>\n",
       "    <tr>\n",
       "      <th>4</th>\n",
       "      <td>0004_01</td>\n",
       "      <td>Earth</td>\n",
       "      <td>False</td>\n",
       "      <td>F/1/S</td>\n",
       "      <td>TRAPPIST-1e</td>\n",
       "      <td>16.0</td>\n",
       "      <td>False</td>\n",
       "      <td>303.0</td>\n",
       "      <td>70.0</td>\n",
       "      <td>151.0</td>\n",
       "      <td>565.0</td>\n",
       "      <td>2.0</td>\n",
       "      <td>Willy Santantines</td>\n",
       "      <td>True</td>\n",
       "    </tr>\n",
       "    <tr>\n",
       "      <th>...</th>\n",
       "      <td>...</td>\n",
       "      <td>...</td>\n",
       "      <td>...</td>\n",
       "      <td>...</td>\n",
       "      <td>...</td>\n",
       "      <td>...</td>\n",
       "      <td>...</td>\n",
       "      <td>...</td>\n",
       "      <td>...</td>\n",
       "      <td>...</td>\n",
       "      <td>...</td>\n",
       "      <td>...</td>\n",
       "      <td>...</td>\n",
       "      <td>...</td>\n",
       "    </tr>\n",
       "    <tr>\n",
       "      <th>8688</th>\n",
       "      <td>9276_01</td>\n",
       "      <td>Europa</td>\n",
       "      <td>False</td>\n",
       "      <td>A/98/P</td>\n",
       "      <td>55 Cancri e</td>\n",
       "      <td>41.0</td>\n",
       "      <td>True</td>\n",
       "      <td>0.0</td>\n",
       "      <td>6819.0</td>\n",
       "      <td>0.0</td>\n",
       "      <td>1643.0</td>\n",
       "      <td>74.0</td>\n",
       "      <td>Gravior Noxnuther</td>\n",
       "      <td>False</td>\n",
       "    </tr>\n",
       "    <tr>\n",
       "      <th>8689</th>\n",
       "      <td>9278_01</td>\n",
       "      <td>Earth</td>\n",
       "      <td>True</td>\n",
       "      <td>G/1499/S</td>\n",
       "      <td>PSO J318.5-22</td>\n",
       "      <td>18.0</td>\n",
       "      <td>False</td>\n",
       "      <td>0.0</td>\n",
       "      <td>0.0</td>\n",
       "      <td>0.0</td>\n",
       "      <td>0.0</td>\n",
       "      <td>0.0</td>\n",
       "      <td>Kurta Mondalley</td>\n",
       "      <td>False</td>\n",
       "    </tr>\n",
       "    <tr>\n",
       "      <th>8690</th>\n",
       "      <td>9279_01</td>\n",
       "      <td>Earth</td>\n",
       "      <td>False</td>\n",
       "      <td>G/1500/S</td>\n",
       "      <td>TRAPPIST-1e</td>\n",
       "      <td>26.0</td>\n",
       "      <td>False</td>\n",
       "      <td>0.0</td>\n",
       "      <td>0.0</td>\n",
       "      <td>1872.0</td>\n",
       "      <td>1.0</td>\n",
       "      <td>0.0</td>\n",
       "      <td>Fayey Connon</td>\n",
       "      <td>True</td>\n",
       "    </tr>\n",
       "    <tr>\n",
       "      <th>8691</th>\n",
       "      <td>9280_01</td>\n",
       "      <td>Europa</td>\n",
       "      <td>False</td>\n",
       "      <td>E/608/S</td>\n",
       "      <td>55 Cancri e</td>\n",
       "      <td>32.0</td>\n",
       "      <td>False</td>\n",
       "      <td>0.0</td>\n",
       "      <td>1049.0</td>\n",
       "      <td>0.0</td>\n",
       "      <td>353.0</td>\n",
       "      <td>3235.0</td>\n",
       "      <td>Celeon Hontichre</td>\n",
       "      <td>False</td>\n",
       "    </tr>\n",
       "    <tr>\n",
       "      <th>8692</th>\n",
       "      <td>9280_02</td>\n",
       "      <td>Europa</td>\n",
       "      <td>False</td>\n",
       "      <td>E/608/S</td>\n",
       "      <td>TRAPPIST-1e</td>\n",
       "      <td>44.0</td>\n",
       "      <td>False</td>\n",
       "      <td>126.0</td>\n",
       "      <td>4688.0</td>\n",
       "      <td>0.0</td>\n",
       "      <td>0.0</td>\n",
       "      <td>12.0</td>\n",
       "      <td>Propsh Hontichre</td>\n",
       "      <td>True</td>\n",
       "    </tr>\n",
       "  </tbody>\n",
       "</table>\n",
       "<p>6606 rows × 14 columns</p>\n",
       "</div>"
      ],
      "text/plain": [
       "     PassengerId HomePlanet CryoSleep     Cabin    Destination   Age    VIP  \\\n",
       "0        0001_01     Europa     False     B/0/P    TRAPPIST-1e  39.0  False   \n",
       "1        0002_01      Earth     False     F/0/S    TRAPPIST-1e  24.0  False   \n",
       "2        0003_01     Europa     False     A/0/S    TRAPPIST-1e  58.0   True   \n",
       "3        0003_02     Europa     False     A/0/S    TRAPPIST-1e  33.0  False   \n",
       "4        0004_01      Earth     False     F/1/S    TRAPPIST-1e  16.0  False   \n",
       "...          ...        ...       ...       ...            ...   ...    ...   \n",
       "8688     9276_01     Europa     False    A/98/P    55 Cancri e  41.0   True   \n",
       "8689     9278_01      Earth      True  G/1499/S  PSO J318.5-22  18.0  False   \n",
       "8690     9279_01      Earth     False  G/1500/S    TRAPPIST-1e  26.0  False   \n",
       "8691     9280_01     Europa     False   E/608/S    55 Cancri e  32.0  False   \n",
       "8692     9280_02     Europa     False   E/608/S    TRAPPIST-1e  44.0  False   \n",
       "\n",
       "      RoomService  FoodCourt  ShoppingMall     Spa  VRDeck               Name  \\\n",
       "0             0.0        0.0           0.0     0.0     0.0    Maham Ofracculy   \n",
       "1           109.0        9.0          25.0   549.0    44.0       Juanna Vines   \n",
       "2            43.0     3576.0           0.0  6715.0    49.0      Altark Susent   \n",
       "3             0.0     1283.0         371.0  3329.0   193.0       Solam Susent   \n",
       "4           303.0       70.0         151.0   565.0     2.0  Willy Santantines   \n",
       "...           ...        ...           ...     ...     ...                ...   \n",
       "8688          0.0     6819.0           0.0  1643.0    74.0  Gravior Noxnuther   \n",
       "8689          0.0        0.0           0.0     0.0     0.0    Kurta Mondalley   \n",
       "8690          0.0        0.0        1872.0     1.0     0.0       Fayey Connon   \n",
       "8691          0.0     1049.0           0.0   353.0  3235.0   Celeon Hontichre   \n",
       "8692        126.0     4688.0           0.0     0.0    12.0   Propsh Hontichre   \n",
       "\n",
       "      Transported  \n",
       "0           False  \n",
       "1            True  \n",
       "2           False  \n",
       "3           False  \n",
       "4            True  \n",
       "...           ...  \n",
       "8688        False  \n",
       "8689        False  \n",
       "8690         True  \n",
       "8691        False  \n",
       "8692         True  \n",
       "\n",
       "[6606 rows x 14 columns]"
      ]
     },
     "execution_count": 12,
     "metadata": {},
     "output_type": "execute_result"
    }
   ],
   "source": [
    "train1 = train.dropna()\n",
    "train1"
   ]
  },
  {
   "cell_type": "code",
   "execution_count": 13,
   "id": "dc3c8734",
   "metadata": {
    "execution": {
     "iopub.execute_input": "2022-10-03T04:27:50.018725Z",
     "iopub.status.busy": "2022-10-03T04:27:50.018306Z",
     "iopub.status.idle": "2022-10-03T04:27:50.035394Z",
     "shell.execute_reply": "2022-10-03T04:27:50.034573Z"
    },
    "papermill": {
     "duration": 0.043379,
     "end_time": "2022-10-03T04:27:50.037448",
     "exception": false,
     "start_time": "2022-10-03T04:27:49.994069",
     "status": "completed"
    },
    "tags": []
   },
   "outputs": [
    {
     "name": "stderr",
     "output_type": "stream",
     "text": [
      "/opt/conda/lib/python3.7/site-packages/pandas/core/generic.py:6619: SettingWithCopyWarning: \n",
      "A value is trying to be set on a copy of a slice from a DataFrame\n",
      "\n",
      "See the caveats in the documentation: https://pandas.pydata.org/pandas-docs/stable/user_guide/indexing.html#returning-a-view-versus-a-copy\n",
      "  return self._update_inplace(result)\n"
     ]
    },
    {
     "data": {
      "text/plain": [
       "0       0\n",
       "1       1\n",
       "2       0\n",
       "3       0\n",
       "4       1\n",
       "       ..\n",
       "8688    0\n",
       "8689    0\n",
       "8690    1\n",
       "8691    0\n",
       "8692    1\n",
       "Name: Transported, Length: 6606, dtype: int64"
      ]
     },
     "execution_count": 13,
     "metadata": {},
     "output_type": "execute_result"
    }
   ],
   "source": [
    "train1['Transported'].replace({False: 0, True: 1},inplace=True)\n",
    "train1['Transported']"
   ]
  },
  {
   "cell_type": "code",
   "execution_count": 14,
   "id": "56a8cb9b",
   "metadata": {
    "execution": {
     "iopub.execute_input": "2022-10-03T04:27:50.086846Z",
     "iopub.status.busy": "2022-10-03T04:27:50.085832Z",
     "iopub.status.idle": "2022-10-03T04:27:50.388257Z",
     "shell.execute_reply": "2022-10-03T04:27:50.387136Z"
    },
    "papermill": {
     "duration": 0.329499,
     "end_time": "2022-10-03T04:27:50.390936",
     "exception": false,
     "start_time": "2022-10-03T04:27:50.061437",
     "status": "completed"
    },
    "tags": []
   },
   "outputs": [
    {
     "data": {
      "text/plain": [
       "<seaborn.axisgrid.FacetGrid at 0x7f9b53d4e4d0>"
      ]
     },
     "execution_count": 14,
     "metadata": {},
     "output_type": "execute_result"
    },
    {
     "data": {
      "image/png": "[encoded data removed]",
      "text/plain": [
       "<Figure size 360x360 with 1 Axes>"
      ]
     },
     "metadata": {
      "needs_background": "light"
     },
     "output_type": "display_data"
    }
   ],
   "source": [
    "sns.displot(train1['Transported'])"
   ]
  },
  {
   "cell_type": "code",
   "execution_count": 15,
   "id": "c7b3f68b",
   "metadata": {
    "execution": {
     "iopub.execute_input": "2022-10-03T04:27:50.439450Z",
     "iopub.status.busy": "2022-10-03T04:27:50.439074Z",
     "iopub.status.idle": "2022-10-03T04:27:50.447262Z",
     "shell.execute_reply": "2022-10-03T04:27:50.446118Z"
    },
    "papermill": {
     "duration": 0.035663,
     "end_time": "2022-10-03T04:27:50.449882",
     "exception": false,
     "start_time": "2022-10-03T04:27:50.414219",
     "status": "completed"
    },
    "tags": []
   },
   "outputs": [
    {
     "data": {
      "text/plain": [
       "1    3327\n",
       "0    3279\n",
       "Name: Transported, dtype: int64"
      ]
     },
     "execution_count": 15,
     "metadata": {},
     "output_type": "execute_result"
    }
   ],
   "source": [
    "trans_count = train1['Transported'].value_counts()\n",
    "trans_count"
   ]
  },
  {
   "cell_type": "code",
   "execution_count": 16,
   "id": "a732ff94",
   "metadata": {
    "execution": {
     "iopub.execute_input": "2022-10-03T04:27:50.497935Z",
     "iopub.status.busy": "2022-10-03T04:27:50.497519Z",
     "iopub.status.idle": "2022-10-03T04:27:50.997847Z",
     "shell.execute_reply": "2022-10-03T04:27:50.996652Z"
    },
    "papermill": {
     "duration": 0.527549,
     "end_time": "2022-10-03T04:27:51.000669",
     "exception": false,
     "start_time": "2022-10-03T04:27:50.473120",
     "status": "completed"
    },
    "tags": []
   },
   "outputs": [
    {
     "name": "stderr",
     "output_type": "stream",
     "text": [
      "/opt/conda/lib/python3.7/site-packages/ipykernel_launcher.py:3: UserWarning: Boolean Series key will be reindexed to match DataFrame index.\n",
      "  This is separate from the ipykernel package so we can avoid doing imports until\n",
      "/opt/conda/lib/python3.7/site-packages/ipykernel_launcher.py:4: UserWarning: Boolean Series key will be reindexed to match DataFrame index.\n",
      "  after removing the cwd from sys.path.\n"
     ]
    },
    {
     "data": {
      "image/png": "[encoded data removed]",
      "text/plain": [
       "<Figure size 1800x504 with 1 Axes>"
      ]
     },
     "metadata": {
      "needs_background": "light"
     },
     "output_type": "display_data"
    }
   ],
   "source": [
    "plt.figure(figsize=(25, 7))\n",
    "ax = plt.subplot()\n",
    "ax.scatter(train1[train1['Transported'] == 1]['Age'], train1[train['Transported'] == 1]['FoodCourt'], c='green', s=train1[train1['Transported'] == 1]['VRDeck'])\n",
    "ax.scatter(train1[train1['Transported'] == 0]['Age'], train1[train['Transported'] == 0]['FoodCourt'], c='red', s=train1[train1['Transported'] == 0]['VRDeck']);"
   ]
  },
  {
   "cell_type": "code",
   "execution_count": 17,
   "id": "3ed354ec",
   "metadata": {
    "execution": {
     "iopub.execute_input": "2022-10-03T04:27:51.051560Z",
     "iopub.status.busy": "2022-10-03T04:27:51.050785Z",
     "iopub.status.idle": "2022-10-03T04:27:51.089855Z",
     "shell.execute_reply": "2022-10-03T04:27:51.088557Z"
    },
    "papermill": {
     "duration": 0.068647,
     "end_time": "2022-10-03T04:27:51.094094",
     "exception": false,
     "start_time": "2022-10-03T04:27:51.025447",
     "status": "completed"
    },
    "tags": []
   },
   "outputs": [
    {
     "name": "stderr",
     "output_type": "stream",
     "text": [
      "/opt/conda/lib/python3.7/site-packages/pandas/core/frame.py:4913: SettingWithCopyWarning: \n",
      "A value is trying to be set on a copy of a slice from a DataFrame\n",
      "\n",
      "See the caveats in the documentation: https://pandas.pydata.org/pandas-docs/stable/user_guide/indexing.html#returning-a-view-versus-a-copy\n",
      "  errors=errors,\n"
     ]
    },
    {
     "data": {
      "text/html": [
       "<div>\n",
       "<style scoped>\n",
       "    .dataframe tbody tr th:only-of-type {\n",
       "        vertical-align: middle;\n",
       "    }\n",
       "\n",
       "    .dataframe tbody tr th {\n",
       "        vertical-align: top;\n",
       "    }\n",
       "\n",
       "    .dataframe thead th {\n",
       "        text-align: right;\n",
       "    }\n",
       "</style>\n",
       "<table border=\"1\" class=\"dataframe\">\n",
       "  <thead>\n",
       "    <tr style=\"text-align: right;\">\n",
       "      <th></th>\n",
       "      <th>PassengerId</th>\n",
       "      <th>HomePlanet</th>\n",
       "      <th>CryoSleep</th>\n",
       "      <th>Cabin</th>\n",
       "      <th>Destination</th>\n",
       "      <th>Age</th>\n",
       "      <th>VIP</th>\n",
       "      <th>RoomService</th>\n",
       "      <th>FoodCourt</th>\n",
       "      <th>ShoppingMall</th>\n",
       "      <th>Spa</th>\n",
       "      <th>VRDeck</th>\n",
       "      <th>Name</th>\n",
       "    </tr>\n",
       "  </thead>\n",
       "  <tbody>\n",
       "    <tr>\n",
       "      <th>0</th>\n",
       "      <td>0001_01</td>\n",
       "      <td>Europa</td>\n",
       "      <td>False</td>\n",
       "      <td>B/0/P</td>\n",
       "      <td>TRAPPIST-1e</td>\n",
       "      <td>39.0</td>\n",
       "      <td>False</td>\n",
       "      <td>0.0</td>\n",
       "      <td>0.0</td>\n",
       "      <td>0.0</td>\n",
       "      <td>0.0</td>\n",
       "      <td>0.0</td>\n",
       "      <td>Maham Ofracculy</td>\n",
       "    </tr>\n",
       "    <tr>\n",
       "      <th>1</th>\n",
       "      <td>0002_01</td>\n",
       "      <td>Earth</td>\n",
       "      <td>False</td>\n",
       "      <td>F/0/S</td>\n",
       "      <td>TRAPPIST-1e</td>\n",
       "      <td>24.0</td>\n",
       "      <td>False</td>\n",
       "      <td>109.0</td>\n",
       "      <td>9.0</td>\n",
       "      <td>25.0</td>\n",
       "      <td>549.0</td>\n",
       "      <td>44.0</td>\n",
       "      <td>Juanna Vines</td>\n",
       "    </tr>\n",
       "    <tr>\n",
       "      <th>2</th>\n",
       "      <td>0003_01</td>\n",
       "      <td>Europa</td>\n",
       "      <td>False</td>\n",
       "      <td>A/0/S</td>\n",
       "      <td>TRAPPIST-1e</td>\n",
       "      <td>58.0</td>\n",
       "      <td>True</td>\n",
       "      <td>43.0</td>\n",
       "      <td>3576.0</td>\n",
       "      <td>0.0</td>\n",
       "      <td>6715.0</td>\n",
       "      <td>49.0</td>\n",
       "      <td>Altark Susent</td>\n",
       "    </tr>\n",
       "    <tr>\n",
       "      <th>3</th>\n",
       "      <td>0003_02</td>\n",
       "      <td>Europa</td>\n",
       "      <td>False</td>\n",
       "      <td>A/0/S</td>\n",
       "      <td>TRAPPIST-1e</td>\n",
       "      <td>33.0</td>\n",
       "      <td>False</td>\n",
       "      <td>0.0</td>\n",
       "      <td>1283.0</td>\n",
       "      <td>371.0</td>\n",
       "      <td>3329.0</td>\n",
       "      <td>193.0</td>\n",
       "      <td>Solam Susent</td>\n",
       "    </tr>\n",
       "    <tr>\n",
       "      <th>4</th>\n",
       "      <td>0004_01</td>\n",
       "      <td>Earth</td>\n",
       "      <td>False</td>\n",
       "      <td>F/1/S</td>\n",
       "      <td>TRAPPIST-1e</td>\n",
       "      <td>16.0</td>\n",
       "      <td>False</td>\n",
       "      <td>303.0</td>\n",
       "      <td>70.0</td>\n",
       "      <td>151.0</td>\n",
       "      <td>565.0</td>\n",
       "      <td>2.0</td>\n",
       "      <td>Willy Santantines</td>\n",
       "    </tr>\n",
       "    <tr>\n",
       "      <th>...</th>\n",
       "      <td>...</td>\n",
       "      <td>...</td>\n",
       "      <td>...</td>\n",
       "      <td>...</td>\n",
       "      <td>...</td>\n",
       "      <td>...</td>\n",
       "      <td>...</td>\n",
       "      <td>...</td>\n",
       "      <td>...</td>\n",
       "      <td>...</td>\n",
       "      <td>...</td>\n",
       "      <td>...</td>\n",
       "      <td>...</td>\n",
       "    </tr>\n",
       "    <tr>\n",
       "      <th>8688</th>\n",
       "      <td>9276_01</td>\n",
       "      <td>Europa</td>\n",
       "      <td>False</td>\n",
       "      <td>A/98/P</td>\n",
       "      <td>55 Cancri e</td>\n",
       "      <td>41.0</td>\n",
       "      <td>True</td>\n",
       "      <td>0.0</td>\n",
       "      <td>6819.0</td>\n",
       "      <td>0.0</td>\n",
       "      <td>1643.0</td>\n",
       "      <td>74.0</td>\n",
       "      <td>Gravior Noxnuther</td>\n",
       "    </tr>\n",
       "    <tr>\n",
       "      <th>8689</th>\n",
       "      <td>9278_01</td>\n",
       "      <td>Earth</td>\n",
       "      <td>True</td>\n",
       "      <td>G/1499/S</td>\n",
       "      <td>PSO J318.5-22</td>\n",
       "      <td>18.0</td>\n",
       "      <td>False</td>\n",
       "      <td>0.0</td>\n",
       "      <td>0.0</td>\n",
       "      <td>0.0</td>\n",
       "      <td>0.0</td>\n",
       "      <td>0.0</td>\n",
       "      <td>Kurta Mondalley</td>\n",
       "    </tr>\n",
       "    <tr>\n",
       "      <th>8690</th>\n",
       "      <td>9279_01</td>\n",
       "      <td>Earth</td>\n",
       "      <td>False</td>\n",
       "      <td>G/1500/S</td>\n",
       "      <td>TRAPPIST-1e</td>\n",
       "      <td>26.0</td>\n",
       "      <td>False</td>\n",
       "      <td>0.0</td>\n",
       "      <td>0.0</td>\n",
       "      <td>1872.0</td>\n",
       "      <td>1.0</td>\n",
       "      <td>0.0</td>\n",
       "      <td>Fayey Connon</td>\n",
       "    </tr>\n",
       "    <tr>\n",
       "      <th>8691</th>\n",
       "      <td>9280_01</td>\n",
       "      <td>Europa</td>\n",
       "      <td>False</td>\n",
       "      <td>E/608/S</td>\n",
       "      <td>55 Cancri e</td>\n",
       "      <td>32.0</td>\n",
       "      <td>False</td>\n",
       "      <td>0.0</td>\n",
       "      <td>1049.0</td>\n",
       "      <td>0.0</td>\n",
       "      <td>353.0</td>\n",
       "      <td>3235.0</td>\n",
       "      <td>Celeon Hontichre</td>\n",
       "    </tr>\n",
       "    <tr>\n",
       "      <th>8692</th>\n",
       "      <td>9280_02</td>\n",
       "      <td>Europa</td>\n",
       "      <td>False</td>\n",
       "      <td>E/608/S</td>\n",
       "      <td>TRAPPIST-1e</td>\n",
       "      <td>44.0</td>\n",
       "      <td>False</td>\n",
       "      <td>126.0</td>\n",
       "      <td>4688.0</td>\n",
       "      <td>0.0</td>\n",
       "      <td>0.0</td>\n",
       "      <td>12.0</td>\n",
       "      <td>Propsh Hontichre</td>\n",
       "    </tr>\n",
       "  </tbody>\n",
       "</table>\n",
       "<p>6606 rows × 13 columns</p>\n",
       "</div>"
      ],
      "text/plain": [
       "     PassengerId HomePlanet CryoSleep     Cabin    Destination   Age    VIP  \\\n",
       "0        0001_01     Europa     False     B/0/P    TRAPPIST-1e  39.0  False   \n",
       "1        0002_01      Earth     False     F/0/S    TRAPPIST-1e  24.0  False   \n",
       "2        0003_01     Europa     False     A/0/S    TRAPPIST-1e  58.0   True   \n",
       "3        0003_02     Europa     False     A/0/S    TRAPPIST-1e  33.0  False   \n",
       "4        0004_01      Earth     False     F/1/S    TRAPPIST-1e  16.0  False   \n",
       "...          ...        ...       ...       ...            ...   ...    ...   \n",
       "8688     9276_01     Europa     False    A/98/P    55 Cancri e  41.0   True   \n",
       "8689     9278_01      Earth      True  G/1499/S  PSO J318.5-22  18.0  False   \n",
       "8690     9279_01      Earth     False  G/1500/S    TRAPPIST-1e  26.0  False   \n",
       "8691     9280_01     Europa     False   E/608/S    55 Cancri e  32.0  False   \n",
       "8692     9280_02     Europa     False   E/608/S    TRAPPIST-1e  44.0  False   \n",
       "\n",
       "      RoomService  FoodCourt  ShoppingMall     Spa  VRDeck               Name  \n",
       "0             0.0        0.0           0.0     0.0     0.0    Maham Ofracculy  \n",
       "1           109.0        9.0          25.0   549.0    44.0       Juanna Vines  \n",
       "2            43.0     3576.0           0.0  6715.0    49.0      Altark Susent  \n",
       "3             0.0     1283.0         371.0  3329.0   193.0       Solam Susent  \n",
       "4           303.0       70.0         151.0   565.0     2.0  Willy Santantines  \n",
       "...           ...        ...           ...     ...     ...                ...  \n",
       "8688          0.0     6819.0           0.0  1643.0    74.0  Gravior Noxnuther  \n",
       "8689          0.0        0.0           0.0     0.0     0.0    Kurta Mondalley  \n",
       "8690          0.0        0.0        1872.0     1.0     0.0       Fayey Connon  \n",
       "8691          0.0     1049.0           0.0   353.0  3235.0   Celeon Hontichre  \n",
       "8692        126.0     4688.0           0.0     0.0    12.0   Propsh Hontichre  \n",
       "\n",
       "[6606 rows x 13 columns]"
      ]
     },
     "execution_count": 17,
     "metadata": {},
     "output_type": "execute_result"
    }
   ],
   "source": [
    "target = train1['Transported']\n",
    "\n",
    "train1.drop(['Transported'],axis=1, inplace=True)\n",
    "train1"
   ]
  },
  {
   "cell_type": "markdown",
   "id": "c8db737a",
   "metadata": {
    "papermill": {
     "duration": 0.024311,
     "end_time": "2022-10-03T04:27:51.143506",
     "exception": false,
     "start_time": "2022-10-03T04:27:51.119195",
     "status": "completed"
    },
    "tags": []
   },
   "source": [
    "## Combine Train1 & Test"
   ]
  },
  {
   "cell_type": "code",
   "execution_count": 18,
   "id": "e8366fa0",
   "metadata": {
    "execution": {
     "iopub.execute_input": "2022-10-03T04:27:51.194042Z",
     "iopub.status.busy": "2022-10-03T04:27:51.193584Z",
     "iopub.status.idle": "2022-10-03T04:27:51.223954Z",
     "shell.execute_reply": "2022-10-03T04:27:51.223062Z"
    },
    "papermill": {
     "duration": 0.058416,
     "end_time": "2022-10-03T04:27:51.226312",
     "exception": false,
     "start_time": "2022-10-03T04:27:51.167896",
     "status": "completed"
    },
    "tags": []
   },
   "outputs": [
    {
     "data": {
      "text/html": [
       "<div>\n",
       "<style scoped>\n",
       "    .dataframe tbody tr th:only-of-type {\n",
       "        vertical-align: middle;\n",
       "    }\n",
       "\n",
       "    .dataframe tbody tr th {\n",
       "        vertical-align: top;\n",
       "    }\n",
       "\n",
       "    .dataframe thead th {\n",
       "        text-align: right;\n",
       "    }\n",
       "</style>\n",
       "<table border=\"1\" class=\"dataframe\">\n",
       "  <thead>\n",
       "    <tr style=\"text-align: right;\">\n",
       "      <th></th>\n",
       "      <th>PassengerId</th>\n",
       "      <th>HomePlanet</th>\n",
       "      <th>CryoSleep</th>\n",
       "      <th>Cabin</th>\n",
       "      <th>Destination</th>\n",
       "      <th>Age</th>\n",
       "      <th>VIP</th>\n",
       "      <th>RoomService</th>\n",
       "      <th>FoodCourt</th>\n",
       "      <th>ShoppingMall</th>\n",
       "      <th>Spa</th>\n",
       "      <th>VRDeck</th>\n",
       "      <th>Name</th>\n",
       "    </tr>\n",
       "  </thead>\n",
       "  <tbody>\n",
       "    <tr>\n",
       "      <th>0</th>\n",
       "      <td>0001_01</td>\n",
       "      <td>Europa</td>\n",
       "      <td>False</td>\n",
       "      <td>B/0/P</td>\n",
       "      <td>TRAPPIST-1e</td>\n",
       "      <td>39.0</td>\n",
       "      <td>False</td>\n",
       "      <td>0.0</td>\n",
       "      <td>0.0</td>\n",
       "      <td>0.0</td>\n",
       "      <td>0.0</td>\n",
       "      <td>0.0</td>\n",
       "      <td>Maham Ofracculy</td>\n",
       "    </tr>\n",
       "    <tr>\n",
       "      <th>1</th>\n",
       "      <td>0002_01</td>\n",
       "      <td>Earth</td>\n",
       "      <td>False</td>\n",
       "      <td>F/0/S</td>\n",
       "      <td>TRAPPIST-1e</td>\n",
       "      <td>24.0</td>\n",
       "      <td>False</td>\n",
       "      <td>109.0</td>\n",
       "      <td>9.0</td>\n",
       "      <td>25.0</td>\n",
       "      <td>549.0</td>\n",
       "      <td>44.0</td>\n",
       "      <td>Juanna Vines</td>\n",
       "    </tr>\n",
       "    <tr>\n",
       "      <th>2</th>\n",
       "      <td>0003_01</td>\n",
       "      <td>Europa</td>\n",
       "      <td>False</td>\n",
       "      <td>A/0/S</td>\n",
       "      <td>TRAPPIST-1e</td>\n",
       "      <td>58.0</td>\n",
       "      <td>True</td>\n",
       "      <td>43.0</td>\n",
       "      <td>3576.0</td>\n",
       "      <td>0.0</td>\n",
       "      <td>6715.0</td>\n",
       "      <td>49.0</td>\n",
       "      <td>Altark Susent</td>\n",
       "    </tr>\n",
       "    <tr>\n",
       "      <th>3</th>\n",
       "      <td>0003_02</td>\n",
       "      <td>Europa</td>\n",
       "      <td>False</td>\n",
       "      <td>A/0/S</td>\n",
       "      <td>TRAPPIST-1e</td>\n",
       "      <td>33.0</td>\n",
       "      <td>False</td>\n",
       "      <td>0.0</td>\n",
       "      <td>1283.0</td>\n",
       "      <td>371.0</td>\n",
       "      <td>3329.0</td>\n",
       "      <td>193.0</td>\n",
       "      <td>Solam Susent</td>\n",
       "    </tr>\n",
       "    <tr>\n",
       "      <th>4</th>\n",
       "      <td>0004_01</td>\n",
       "      <td>Earth</td>\n",
       "      <td>False</td>\n",
       "      <td>F/1/S</td>\n",
       "      <td>TRAPPIST-1e</td>\n",
       "      <td>16.0</td>\n",
       "      <td>False</td>\n",
       "      <td>303.0</td>\n",
       "      <td>70.0</td>\n",
       "      <td>151.0</td>\n",
       "      <td>565.0</td>\n",
       "      <td>2.0</td>\n",
       "      <td>Willy Santantines</td>\n",
       "    </tr>\n",
       "    <tr>\n",
       "      <th>...</th>\n",
       "      <td>...</td>\n",
       "      <td>...</td>\n",
       "      <td>...</td>\n",
       "      <td>...</td>\n",
       "      <td>...</td>\n",
       "      <td>...</td>\n",
       "      <td>...</td>\n",
       "      <td>...</td>\n",
       "      <td>...</td>\n",
       "      <td>...</td>\n",
       "      <td>...</td>\n",
       "      <td>...</td>\n",
       "      <td>...</td>\n",
       "    </tr>\n",
       "    <tr>\n",
       "      <th>4272</th>\n",
       "      <td>9266_02</td>\n",
       "      <td>Earth</td>\n",
       "      <td>True</td>\n",
       "      <td>G/1496/S</td>\n",
       "      <td>TRAPPIST-1e</td>\n",
       "      <td>34.0</td>\n",
       "      <td>False</td>\n",
       "      <td>0.0</td>\n",
       "      <td>0.0</td>\n",
       "      <td>0.0</td>\n",
       "      <td>0.0</td>\n",
       "      <td>0.0</td>\n",
       "      <td>Jeron Peter</td>\n",
       "    </tr>\n",
       "    <tr>\n",
       "      <th>4273</th>\n",
       "      <td>9269_01</td>\n",
       "      <td>Earth</td>\n",
       "      <td>False</td>\n",
       "      <td>NaN</td>\n",
       "      <td>TRAPPIST-1e</td>\n",
       "      <td>42.0</td>\n",
       "      <td>False</td>\n",
       "      <td>0.0</td>\n",
       "      <td>847.0</td>\n",
       "      <td>17.0</td>\n",
       "      <td>10.0</td>\n",
       "      <td>144.0</td>\n",
       "      <td>Matty Scheron</td>\n",
       "    </tr>\n",
       "    <tr>\n",
       "      <th>4274</th>\n",
       "      <td>9271_01</td>\n",
       "      <td>Mars</td>\n",
       "      <td>True</td>\n",
       "      <td>D/296/P</td>\n",
       "      <td>55 Cancri e</td>\n",
       "      <td>NaN</td>\n",
       "      <td>False</td>\n",
       "      <td>0.0</td>\n",
       "      <td>0.0</td>\n",
       "      <td>0.0</td>\n",
       "      <td>0.0</td>\n",
       "      <td>0.0</td>\n",
       "      <td>Jayrin Pore</td>\n",
       "    </tr>\n",
       "    <tr>\n",
       "      <th>4275</th>\n",
       "      <td>9273_01</td>\n",
       "      <td>Europa</td>\n",
       "      <td>False</td>\n",
       "      <td>D/297/P</td>\n",
       "      <td>NaN</td>\n",
       "      <td>NaN</td>\n",
       "      <td>False</td>\n",
       "      <td>0.0</td>\n",
       "      <td>2680.0</td>\n",
       "      <td>0.0</td>\n",
       "      <td>0.0</td>\n",
       "      <td>523.0</td>\n",
       "      <td>Kitakan Conale</td>\n",
       "    </tr>\n",
       "    <tr>\n",
       "      <th>4276</th>\n",
       "      <td>9277_01</td>\n",
       "      <td>Earth</td>\n",
       "      <td>True</td>\n",
       "      <td>G/1498/S</td>\n",
       "      <td>PSO J318.5-22</td>\n",
       "      <td>43.0</td>\n",
       "      <td>False</td>\n",
       "      <td>0.0</td>\n",
       "      <td>0.0</td>\n",
       "      <td>0.0</td>\n",
       "      <td>0.0</td>\n",
       "      <td>0.0</td>\n",
       "      <td>Lilace Leonzaley</td>\n",
       "    </tr>\n",
       "  </tbody>\n",
       "</table>\n",
       "<p>10883 rows × 13 columns</p>\n",
       "</div>"
      ],
      "text/plain": [
       "     PassengerId HomePlanet CryoSleep     Cabin    Destination   Age    VIP  \\\n",
       "0        0001_01     Europa     False     B/0/P    TRAPPIST-1e  39.0  False   \n",
       "1        0002_01      Earth     False     F/0/S    TRAPPIST-1e  24.0  False   \n",
       "2        0003_01     Europa     False     A/0/S    TRAPPIST-1e  58.0   True   \n",
       "3        0003_02     Europa     False     A/0/S    TRAPPIST-1e  33.0  False   \n",
       "4        0004_01      Earth     False     F/1/S    TRAPPIST-1e  16.0  False   \n",
       "...          ...        ...       ...       ...            ...   ...    ...   \n",
       "4272     9266_02      Earth      True  G/1496/S    TRAPPIST-1e  34.0  False   \n",
       "4273     9269_01      Earth     False       NaN    TRAPPIST-1e  42.0  False   \n",
       "4274     9271_01       Mars      True   D/296/P    55 Cancri e   NaN  False   \n",
       "4275     9273_01     Europa     False   D/297/P            NaN   NaN  False   \n",
       "4276     9277_01      Earth      True  G/1498/S  PSO J318.5-22  43.0  False   \n",
       "\n",
       "      RoomService  FoodCourt  ShoppingMall     Spa  VRDeck               Name  \n",
       "0             0.0        0.0           0.0     0.0     0.0    Maham Ofracculy  \n",
       "1           109.0        9.0          25.0   549.0    44.0       Juanna Vines  \n",
       "2            43.0     3576.0           0.0  6715.0    49.0      Altark Susent  \n",
       "3             0.0     1283.0         371.0  3329.0   193.0       Solam Susent  \n",
       "4           303.0       70.0         151.0   565.0     2.0  Willy Santantines  \n",
       "...           ...        ...           ...     ...     ...                ...  \n",
       "4272          0.0        0.0           0.0     0.0     0.0        Jeron Peter  \n",
       "4273          0.0      847.0          17.0    10.0   144.0      Matty Scheron  \n",
       "4274          0.0        0.0           0.0     0.0     0.0        Jayrin Pore  \n",
       "4275          0.0     2680.0           0.0     0.0   523.0     Kitakan Conale  \n",
       "4276          0.0        0.0           0.0     0.0     0.0   Lilace Leonzaley  \n",
       "\n",
       "[10883 rows x 13 columns]"
      ]
     },
     "execution_count": 18,
     "metadata": {},
     "output_type": "execute_result"
    }
   ],
   "source": [
    "combi = train1.append(test)\n",
    "combi"
   ]
  },
  {
   "cell_type": "code",
   "execution_count": 19,
   "id": "782b7f16",
   "metadata": {
    "execution": {
     "iopub.execute_input": "2022-10-03T04:27:51.279404Z",
     "iopub.status.busy": "2022-10-03T04:27:51.278732Z",
     "iopub.status.idle": "2022-10-03T04:27:51.295760Z",
     "shell.execute_reply": "2022-10-03T04:27:51.294099Z"
    },
    "papermill": {
     "duration": 0.045892,
     "end_time": "2022-10-03T04:27:51.298081",
     "exception": false,
     "start_time": "2022-10-03T04:27:51.252189",
     "status": "completed"
    },
    "tags": []
   },
   "outputs": [
    {
     "name": "stdout",
     "output_type": "stream",
     "text": [
      "<class 'pandas.core.frame.DataFrame'>\n",
      "Int64Index: 10883 entries, 0 to 4276\n",
      "Data columns (total 13 columns):\n",
      " #   Column        Non-Null Count  Dtype  \n",
      "---  ------        --------------  -----  \n",
      " 0   PassengerId   10883 non-null  object \n",
      " 1   HomePlanet    10796 non-null  object \n",
      " 2   CryoSleep     10790 non-null  object \n",
      " 3   Cabin         10783 non-null  object \n",
      " 4   Destination   10791 non-null  object \n",
      " 5   Age           10792 non-null  float64\n",
      " 6   VIP           10790 non-null  object \n",
      " 7   RoomService   10801 non-null  float64\n",
      " 8   FoodCourt     10777 non-null  float64\n",
      " 9   ShoppingMall  10785 non-null  float64\n",
      " 10  Spa           10782 non-null  float64\n",
      " 11  VRDeck        10803 non-null  float64\n",
      " 12  Name          10789 non-null  object \n",
      "dtypes: float64(6), object(7)\n",
      "memory usage: 1.2+ MB\n"
     ]
    }
   ],
   "source": [
    "combi.info()"
   ]
  },
  {
   "cell_type": "code",
   "execution_count": 20,
   "id": "143d3040",
   "metadata": {
    "execution": {
     "iopub.execute_input": "2022-10-03T04:27:51.352609Z",
     "iopub.status.busy": "2022-10-03T04:27:51.351447Z",
     "iopub.status.idle": "2022-10-03T04:27:51.365906Z",
     "shell.execute_reply": "2022-10-03T04:27:51.364650Z"
    },
    "papermill": {
     "duration": 0.044642,
     "end_time": "2022-10-03T04:27:51.368410",
     "exception": false,
     "start_time": "2022-10-03T04:27:51.323768",
     "status": "completed"
    },
    "tags": []
   },
   "outputs": [
    {
     "data": {
      "text/plain": [
       "PassengerId       0\n",
       "HomePlanet       87\n",
       "CryoSleep        93\n",
       "Cabin           100\n",
       "Destination      92\n",
       "Age              91\n",
       "VIP              93\n",
       "RoomService      82\n",
       "FoodCourt       106\n",
       "ShoppingMall     98\n",
       "Spa             101\n",
       "VRDeck           80\n",
       "Name             94\n",
       "dtype: int64"
      ]
     },
     "execution_count": 20,
     "metadata": {},
     "output_type": "execute_result"
    }
   ],
   "source": [
    "combi.isnull().sum()"
   ]
  },
  {
   "cell_type": "markdown",
   "id": "2cb37e8c",
   "metadata": {
    "papermill": {
     "duration": 0.025449,
     "end_time": "2022-10-03T04:27:51.419140",
     "exception": false,
     "start_time": "2022-10-03T04:27:51.393691",
     "status": "completed"
    },
    "tags": []
   },
   "source": [
    "### Data Cleaning"
   ]
  },
  {
   "cell_type": "code",
   "execution_count": 21,
   "id": "85cc3d63",
   "metadata": {
    "execution": {
     "iopub.execute_input": "2022-10-03T04:27:51.471831Z",
     "iopub.status.busy": "2022-10-03T04:27:51.471038Z",
     "iopub.status.idle": "2022-10-03T04:27:51.813135Z",
     "shell.execute_reply": "2022-10-03T04:27:51.811813Z"
    },
    "papermill": {
     "duration": 0.37123,
     "end_time": "2022-10-03T04:27:51.815577",
     "exception": false,
     "start_time": "2022-10-03T04:27:51.444347",
     "status": "completed"
    },
    "tags": []
   },
   "outputs": [
    {
     "data": {
      "text/html": [
       "<div>\n",
       "<style scoped>\n",
       "    .dataframe tbody tr th:only-of-type {\n",
       "        vertical-align: middle;\n",
       "    }\n",
       "\n",
       "    .dataframe tbody tr th {\n",
       "        vertical-align: top;\n",
       "    }\n",
       "\n",
       "    .dataframe thead th {\n",
       "        text-align: right;\n",
       "    }\n",
       "</style>\n",
       "<table border=\"1\" class=\"dataframe\">\n",
       "  <thead>\n",
       "    <tr style=\"text-align: right;\">\n",
       "      <th></th>\n",
       "      <th>PassengerId</th>\n",
       "      <th>HomePlanet</th>\n",
       "      <th>CryoSleep</th>\n",
       "      <th>Cabin</th>\n",
       "      <th>Destination</th>\n",
       "      <th>Age</th>\n",
       "      <th>VIP</th>\n",
       "      <th>RoomService</th>\n",
       "      <th>FoodCourt</th>\n",
       "      <th>ShoppingMall</th>\n",
       "      <th>Spa</th>\n",
       "      <th>VRDeck</th>\n",
       "      <th>Name</th>\n",
       "    </tr>\n",
       "  </thead>\n",
       "  <tbody>\n",
       "    <tr>\n",
       "      <th>0</th>\n",
       "      <td>0001_01</td>\n",
       "      <td>Europa</td>\n",
       "      <td>False</td>\n",
       "      <td>B/0/P</td>\n",
       "      <td>TRAPPIST-1e</td>\n",
       "      <td>39.000000</td>\n",
       "      <td>False</td>\n",
       "      <td>0.0</td>\n",
       "      <td>0.0</td>\n",
       "      <td>0.0</td>\n",
       "      <td>0.0</td>\n",
       "      <td>0.0</td>\n",
       "      <td>Maham Ofracculy</td>\n",
       "    </tr>\n",
       "    <tr>\n",
       "      <th>1</th>\n",
       "      <td>0002_01</td>\n",
       "      <td>Earth</td>\n",
       "      <td>False</td>\n",
       "      <td>F/0/S</td>\n",
       "      <td>TRAPPIST-1e</td>\n",
       "      <td>24.000000</td>\n",
       "      <td>False</td>\n",
       "      <td>109.0</td>\n",
       "      <td>9.0</td>\n",
       "      <td>25.0</td>\n",
       "      <td>549.0</td>\n",
       "      <td>44.0</td>\n",
       "      <td>Juanna Vines</td>\n",
       "    </tr>\n",
       "    <tr>\n",
       "      <th>2</th>\n",
       "      <td>0003_01</td>\n",
       "      <td>Europa</td>\n",
       "      <td>False</td>\n",
       "      <td>A/0/S</td>\n",
       "      <td>TRAPPIST-1e</td>\n",
       "      <td>58.000000</td>\n",
       "      <td>True</td>\n",
       "      <td>43.0</td>\n",
       "      <td>3576.0</td>\n",
       "      <td>0.0</td>\n",
       "      <td>6715.0</td>\n",
       "      <td>49.0</td>\n",
       "      <td>Altark Susent</td>\n",
       "    </tr>\n",
       "    <tr>\n",
       "      <th>3</th>\n",
       "      <td>0003_02</td>\n",
       "      <td>Europa</td>\n",
       "      <td>False</td>\n",
       "      <td>A/0/S</td>\n",
       "      <td>TRAPPIST-1e</td>\n",
       "      <td>33.000000</td>\n",
       "      <td>False</td>\n",
       "      <td>0.0</td>\n",
       "      <td>1283.0</td>\n",
       "      <td>371.0</td>\n",
       "      <td>3329.0</td>\n",
       "      <td>193.0</td>\n",
       "      <td>Solam Susent</td>\n",
       "    </tr>\n",
       "    <tr>\n",
       "      <th>4</th>\n",
       "      <td>0004_01</td>\n",
       "      <td>Earth</td>\n",
       "      <td>False</td>\n",
       "      <td>F/1/S</td>\n",
       "      <td>TRAPPIST-1e</td>\n",
       "      <td>16.000000</td>\n",
       "      <td>False</td>\n",
       "      <td>303.0</td>\n",
       "      <td>70.0</td>\n",
       "      <td>151.0</td>\n",
       "      <td>565.0</td>\n",
       "      <td>2.0</td>\n",
       "      <td>Willy Santantines</td>\n",
       "    </tr>\n",
       "    <tr>\n",
       "      <th>...</th>\n",
       "      <td>...</td>\n",
       "      <td>...</td>\n",
       "      <td>...</td>\n",
       "      <td>...</td>\n",
       "      <td>...</td>\n",
       "      <td>...</td>\n",
       "      <td>...</td>\n",
       "      <td>...</td>\n",
       "      <td>...</td>\n",
       "      <td>...</td>\n",
       "      <td>...</td>\n",
       "      <td>...</td>\n",
       "      <td>...</td>\n",
       "    </tr>\n",
       "    <tr>\n",
       "      <th>4272</th>\n",
       "      <td>9266_02</td>\n",
       "      <td>Earth</td>\n",
       "      <td>True</td>\n",
       "      <td>G/1496/S</td>\n",
       "      <td>TRAPPIST-1e</td>\n",
       "      <td>34.000000</td>\n",
       "      <td>False</td>\n",
       "      <td>0.0</td>\n",
       "      <td>0.0</td>\n",
       "      <td>0.0</td>\n",
       "      <td>0.0</td>\n",
       "      <td>0.0</td>\n",
       "      <td>Jeron Peter</td>\n",
       "    </tr>\n",
       "    <tr>\n",
       "      <th>4273</th>\n",
       "      <td>9269_01</td>\n",
       "      <td>Earth</td>\n",
       "      <td>False</td>\n",
       "      <td>not listed</td>\n",
       "      <td>TRAPPIST-1e</td>\n",
       "      <td>42.000000</td>\n",
       "      <td>False</td>\n",
       "      <td>0.0</td>\n",
       "      <td>847.0</td>\n",
       "      <td>17.0</td>\n",
       "      <td>10.0</td>\n",
       "      <td>144.0</td>\n",
       "      <td>Matty Scheron</td>\n",
       "    </tr>\n",
       "    <tr>\n",
       "      <th>4274</th>\n",
       "      <td>9271_01</td>\n",
       "      <td>Mars</td>\n",
       "      <td>True</td>\n",
       "      <td>D/296/P</td>\n",
       "      <td>55 Cancri e</td>\n",
       "      <td>28.802539</td>\n",
       "      <td>False</td>\n",
       "      <td>0.0</td>\n",
       "      <td>0.0</td>\n",
       "      <td>0.0</td>\n",
       "      <td>0.0</td>\n",
       "      <td>0.0</td>\n",
       "      <td>Jayrin Pore</td>\n",
       "    </tr>\n",
       "    <tr>\n",
       "      <th>4275</th>\n",
       "      <td>9273_01</td>\n",
       "      <td>Europa</td>\n",
       "      <td>False</td>\n",
       "      <td>D/297/P</td>\n",
       "      <td>not listed</td>\n",
       "      <td>28.802539</td>\n",
       "      <td>False</td>\n",
       "      <td>0.0</td>\n",
       "      <td>2680.0</td>\n",
       "      <td>0.0</td>\n",
       "      <td>0.0</td>\n",
       "      <td>523.0</td>\n",
       "      <td>Kitakan Conale</td>\n",
       "    </tr>\n",
       "    <tr>\n",
       "      <th>4276</th>\n",
       "      <td>9277_01</td>\n",
       "      <td>Earth</td>\n",
       "      <td>True</td>\n",
       "      <td>G/1498/S</td>\n",
       "      <td>PSO J318.5-22</td>\n",
       "      <td>43.000000</td>\n",
       "      <td>False</td>\n",
       "      <td>0.0</td>\n",
       "      <td>0.0</td>\n",
       "      <td>0.0</td>\n",
       "      <td>0.0</td>\n",
       "      <td>0.0</td>\n",
       "      <td>Lilace Leonzaley</td>\n",
       "    </tr>\n",
       "  </tbody>\n",
       "</table>\n",
       "<p>10883 rows × 13 columns</p>\n",
       "</div>"
      ],
      "text/plain": [
       "     PassengerId HomePlanet CryoSleep       Cabin    Destination        Age  \\\n",
       "0        0001_01     Europa     False       B/0/P    TRAPPIST-1e  39.000000   \n",
       "1        0002_01      Earth     False       F/0/S    TRAPPIST-1e  24.000000   \n",
       "2        0003_01     Europa     False       A/0/S    TRAPPIST-1e  58.000000   \n",
       "3        0003_02     Europa     False       A/0/S    TRAPPIST-1e  33.000000   \n",
       "4        0004_01      Earth     False       F/1/S    TRAPPIST-1e  16.000000   \n",
       "...          ...        ...       ...         ...            ...        ...   \n",
       "4272     9266_02      Earth      True    G/1496/S    TRAPPIST-1e  34.000000   \n",
       "4273     9269_01      Earth     False  not listed    TRAPPIST-1e  42.000000   \n",
       "4274     9271_01       Mars      True     D/296/P    55 Cancri e  28.802539   \n",
       "4275     9273_01     Europa     False     D/297/P     not listed  28.802539   \n",
       "4276     9277_01      Earth      True    G/1498/S  PSO J318.5-22  43.000000   \n",
       "\n",
       "        VIP  RoomService  FoodCourt  ShoppingMall     Spa  VRDeck  \\\n",
       "0     False          0.0        0.0           0.0     0.0     0.0   \n",
       "1     False        109.0        9.0          25.0   549.0    44.0   \n",
       "2      True         43.0     3576.0           0.0  6715.0    49.0   \n",
       "3     False          0.0     1283.0         371.0  3329.0   193.0   \n",
       "4     False        303.0       70.0         151.0   565.0     2.0   \n",
       "...     ...          ...        ...           ...     ...     ...   \n",
       "4272  False          0.0        0.0           0.0     0.0     0.0   \n",
       "4273  False          0.0      847.0          17.0    10.0   144.0   \n",
       "4274  False          0.0        0.0           0.0     0.0     0.0   \n",
       "4275  False          0.0     2680.0           0.0     0.0   523.0   \n",
       "4276  False          0.0        0.0           0.0     0.0     0.0   \n",
       "\n",
       "                   Name  \n",
       "0       Maham Ofracculy  \n",
       "1          Juanna Vines  \n",
       "2         Altark Susent  \n",
       "3          Solam Susent  \n",
       "4     Willy Santantines  \n",
       "...                 ...  \n",
       "4272        Jeron Peter  \n",
       "4273      Matty Scheron  \n",
       "4274        Jayrin Pore  \n",
       "4275     Kitakan Conale  \n",
       "4276   Lilace Leonzaley  \n",
       "\n",
       "[10883 rows x 13 columns]"
      ]
     },
     "execution_count": 21,
     "metadata": {},
     "output_type": "execute_result"
    }
   ],
   "source": [
    "from sklearn.experimental import enable_iterative_imputer\n",
    "from sklearn.impute import IterativeImputer\n",
    "\n",
    "imp = IterativeImputer(random_state=42)\n",
    "\n",
    "date = pd.Timestamp('2200-01-01')\n",
    "\n",
    "for col in combi:\n",
    "    if combi[col].dtype==\"object\":\n",
    "        combi[col].fillna(\"not listed\", inplace=True)\n",
    "    if combi[col].dtype==\"int\":\n",
    "        #X[col].fillna(X[col].mode()[0], inplace=True)\n",
    "        combi[col].fillna(combi[col].mean(), inplace=True)\n",
    "        #combi[col] = combi[col].astype.int()\n",
    "    if combi[col].dtype=='float':\n",
    "       #X[col].fillna(X[col].mean(), inplace=True)\n",
    "       combi[col] = imp.fit_transform(combi[col].values.reshape(-1,1))\n",
    "    if combi[col].dtype==\"datetime64[ns]\":\n",
    "        combi[col].fillna(date, inplace=True)\n",
    "combi"
   ]
  },
  {
   "cell_type": "code",
   "execution_count": 22,
   "id": "816a0459",
   "metadata": {
    "execution": {
     "iopub.execute_input": "2022-10-03T04:27:51.869076Z",
     "iopub.status.busy": "2022-10-03T04:27:51.868054Z",
     "iopub.status.idle": "2022-10-03T04:27:51.881719Z",
     "shell.execute_reply": "2022-10-03T04:27:51.880612Z"
    },
    "papermill": {
     "duration": 0.042729,
     "end_time": "2022-10-03T04:27:51.883963",
     "exception": false,
     "start_time": "2022-10-03T04:27:51.841234",
     "status": "completed"
    },
    "tags": []
   },
   "outputs": [
    {
     "data": {
      "text/plain": [
       "PassengerId     0\n",
       "HomePlanet      0\n",
       "CryoSleep       0\n",
       "Cabin           0\n",
       "Destination     0\n",
       "Age             0\n",
       "VIP             0\n",
       "RoomService     0\n",
       "FoodCourt       0\n",
       "ShoppingMall    0\n",
       "Spa             0\n",
       "VRDeck          0\n",
       "Name            0\n",
       "dtype: int64"
      ]
     },
     "execution_count": 22,
     "metadata": {},
     "output_type": "execute_result"
    }
   ],
   "source": [
    "combi.isnull().sum()"
   ]
  },
  {
   "cell_type": "markdown",
   "id": "058f7ea4",
   "metadata": {
    "papermill": {
     "duration": 0.0256,
     "end_time": "2022-10-03T04:27:51.935913",
     "exception": false,
     "start_time": "2022-10-03T04:27:51.910313",
     "status": "completed"
    },
    "tags": []
   },
   "source": [
    "## Analyse features"
   ]
  },
  {
   "cell_type": "markdown",
   "id": "7284febd",
   "metadata": {
    "papermill": {
     "duration": 0.026283,
     "end_time": "2022-10-03T04:27:51.987834",
     "exception": false,
     "start_time": "2022-10-03T04:27:51.961551",
     "status": "completed"
    },
    "tags": []
   },
   "source": [
    "#### Home Planet"
   ]
  },
  {
   "cell_type": "code",
   "execution_count": 23,
   "id": "fcbc084f",
   "metadata": {
    "execution": {
     "iopub.execute_input": "2022-10-03T04:27:52.041676Z",
     "iopub.status.busy": "2022-10-03T04:27:52.040896Z",
     "iopub.status.idle": "2022-10-03T04:27:52.351035Z",
     "shell.execute_reply": "2022-10-03T04:27:52.349740Z"
    },
    "papermill": {
     "duration": 0.339687,
     "end_time": "2022-10-03T04:27:52.353499",
     "exception": false,
     "start_time": "2022-10-03T04:27:52.013812",
     "status": "completed"
    },
    "tags": []
   },
   "outputs": [
    {
     "data": {
      "text/plain": [
       "<seaborn.axisgrid.FacetGrid at 0x7f9b5376ce90>"
      ]
     },
     "execution_count": 23,
     "metadata": {},
     "output_type": "execute_result"
    },
    {
     "data": {
      "image/png": "[encoded data removed]",
      "text/plain": [
       "<Figure size 360x360 with 1 Axes>"
      ]
     },
     "metadata": {
      "needs_background": "light"
     },
     "output_type": "display_data"
    }
   ],
   "source": [
    "sns.displot(combi['HomePlanet'])"
   ]
  },
  {
   "cell_type": "code",
   "execution_count": 24,
   "id": "b8116b87",
   "metadata": {
    "execution": {
     "iopub.execute_input": "2022-10-03T04:27:52.408518Z",
     "iopub.status.busy": "2022-10-03T04:27:52.407779Z",
     "iopub.status.idle": "2022-10-03T04:27:52.416258Z",
     "shell.execute_reply": "2022-10-03T04:27:52.415205Z"
    },
    "papermill": {
     "duration": 0.037869,
     "end_time": "2022-10-03T04:27:52.418470",
     "exception": false,
     "start_time": "2022-10-03T04:27:52.380601",
     "status": "completed"
    },
    "tags": []
   },
   "outputs": [
    {
     "data": {
      "text/plain": [
       "Earth         5829\n",
       "Europa        2675\n",
       "Mars          2292\n",
       "not listed      87\n",
       "Name: HomePlanet, dtype: int64"
      ]
     },
     "execution_count": 24,
     "metadata": {},
     "output_type": "execute_result"
    }
   ],
   "source": [
    "home_count = combi['HomePlanet'].value_counts()\n",
    "home_count"
   ]
  },
  {
   "cell_type": "code",
   "execution_count": 25,
   "id": "267daa64",
   "metadata": {
    "execution": {
     "iopub.execute_input": "2022-10-03T04:27:52.471790Z",
     "iopub.status.busy": "2022-10-03T04:27:52.471379Z",
     "iopub.status.idle": "2022-10-03T04:27:52.580524Z",
     "shell.execute_reply": "2022-10-03T04:27:52.578962Z"
    },
    "papermill": {
     "duration": 0.140466,
     "end_time": "2022-10-03T04:27:52.584692",
     "exception": false,
     "start_time": "2022-10-03T04:27:52.444226",
     "status": "completed"
    },
    "tags": []
   },
   "outputs": [
    {
     "data": {
      "image/png": "[encoded data removed]",
      "text/plain": [
       "<Figure size 432x288 with 1 Axes>"
      ]
     },
     "metadata": {},
     "output_type": "display_data"
    }
   ],
   "source": [
    "mylabels = [\"Earth\", \"Europa\", \"Mars\", \"not listed\"]\n",
    "plt.pie(home_count, labels=mylabels)\n",
    "plt.show()"
   ]
  },
  {
   "cell_type": "code",
   "execution_count": 26,
   "id": "49f446e0",
   "metadata": {
    "execution": {
     "iopub.execute_input": "2022-10-03T04:27:52.689070Z",
     "iopub.status.busy": "2022-10-03T04:27:52.688282Z",
     "iopub.status.idle": "2022-10-03T04:27:52.702794Z",
     "shell.execute_reply": "2022-10-03T04:27:52.701943Z"
    },
    "papermill": {
     "duration": 0.051651,
     "end_time": "2022-10-03T04:27:52.704929",
     "exception": false,
     "start_time": "2022-10-03T04:27:52.653278",
     "status": "completed"
    },
    "tags": []
   },
   "outputs": [
    {
     "data": {
      "text/plain": [
       "0       2\n",
       "1       1\n",
       "2       2\n",
       "3       2\n",
       "4       1\n",
       "       ..\n",
       "4272    1\n",
       "4273    1\n",
       "4274    3\n",
       "4275    2\n",
       "4276    1\n",
       "Name: HomePlanet, Length: 10883, dtype: int64"
      ]
     },
     "execution_count": 26,
     "metadata": {},
     "output_type": "execute_result"
    }
   ],
   "source": [
    "combi['HomePlanet'].replace({\"Earth\": 1, \"Europa\": 2, \"Mars\": 3, \"not listed\": 4},inplace=True)\n",
    "combi['HomePlanet']"
   ]
  },
  {
   "cell_type": "code",
   "execution_count": 27,
   "id": "e0540c20",
   "metadata": {
    "execution": {
     "iopub.execute_input": "2022-10-03T04:27:52.760660Z",
     "iopub.status.busy": "2022-10-03T04:27:52.759904Z",
     "iopub.status.idle": "2022-10-03T04:27:52.768888Z",
     "shell.execute_reply": "2022-10-03T04:27:52.768020Z"
    },
    "papermill": {
     "duration": 0.040807,
     "end_time": "2022-10-03T04:27:52.771902",
     "exception": false,
     "start_time": "2022-10-03T04:27:52.731095",
     "status": "completed"
    },
    "tags": []
   },
   "outputs": [
    {
     "name": "stderr",
     "output_type": "stream",
     "text": [
      "/opt/conda/lib/python3.7/site-packages/ipykernel_launcher.py:1: SettingWithCopyWarning: \n",
      "A value is trying to be set on a copy of a slice from a DataFrame\n",
      "\n",
      "See the caveats in the documentation: https://pandas.pydata.org/pandas-docs/stable/user_guide/indexing.html#returning-a-view-versus-a-copy\n",
      "  \"\"\"Entry point for launching an IPython kernel.\n"
     ]
    }
   ],
   "source": [
    "combi['CryoSleep'][combi['CryoSleep'] == 'not listed'] = False"
   ]
  },
  {
   "cell_type": "code",
   "execution_count": 28,
   "id": "3877e050",
   "metadata": {
    "execution": {
     "iopub.execute_input": "2022-10-03T04:27:52.829141Z",
     "iopub.status.busy": "2022-10-03T04:27:52.828397Z",
     "iopub.status.idle": "2022-10-03T04:27:52.835300Z",
     "shell.execute_reply": "2022-10-03T04:27:52.833950Z"
    },
    "papermill": {
     "duration": 0.039006,
     "end_time": "2022-10-03T04:27:52.838484",
     "exception": false,
     "start_time": "2022-10-03T04:27:52.799478",
     "status": "completed"
    },
    "tags": []
   },
   "outputs": [
    {
     "name": "stdout",
     "output_type": "stream",
     "text": [
      "PassengerId         0156_01\n",
      "HomePlanet                3\n",
      "CryoSleep             False\n",
      "Cabin                F/34/P\n",
      "Destination     TRAPPIST-1e\n",
      "Age               28.802539\n",
      "VIP                   False\n",
      "RoomService             0.0\n",
      "FoodCourt               0.0\n",
      "ShoppingMall            0.0\n",
      "Spa                     0.0\n",
      "VRDeck                  0.0\n",
      "Name            Tures Upead\n",
      "Name: 68, dtype: object\n"
     ]
    }
   ],
   "source": [
    "print(combi.iloc[6674])"
   ]
  },
  {
   "cell_type": "code",
   "execution_count": 29,
   "id": "acab03ce",
   "metadata": {
    "execution": {
     "iopub.execute_input": "2022-10-03T04:27:52.893820Z",
     "iopub.status.busy": "2022-10-03T04:27:52.893178Z",
     "iopub.status.idle": "2022-10-03T04:27:52.907934Z",
     "shell.execute_reply": "2022-10-03T04:27:52.906786Z"
    },
    "papermill": {
     "duration": 0.044844,
     "end_time": "2022-10-03T04:27:52.910236",
     "exception": false,
     "start_time": "2022-10-03T04:27:52.865392",
     "status": "completed"
    },
    "tags": []
   },
   "outputs": [
    {
     "data": {
      "text/plain": [
       "0       0\n",
       "1       0\n",
       "2       0\n",
       "3       0\n",
       "4       0\n",
       "       ..\n",
       "4272    1\n",
       "4273    0\n",
       "4274    1\n",
       "4275    0\n",
       "4276    1\n",
       "Name: CryoSleep, Length: 10883, dtype: int64"
      ]
     },
     "execution_count": 29,
     "metadata": {},
     "output_type": "execute_result"
    }
   ],
   "source": [
    "combi['CryoSleep'].replace({False: 0, True: 1})"
   ]
  },
  {
   "cell_type": "code",
   "execution_count": 30,
   "id": "ca68d91d",
   "metadata": {
    "execution": {
     "iopub.execute_input": "2022-10-03T04:27:52.966539Z",
     "iopub.status.busy": "2022-10-03T04:27:52.965553Z",
     "iopub.status.idle": "2022-10-03T04:27:52.975281Z",
     "shell.execute_reply": "2022-10-03T04:27:52.974124Z"
    },
    "papermill": {
     "duration": 0.040245,
     "end_time": "2022-10-03T04:27:52.977719",
     "exception": false,
     "start_time": "2022-10-03T04:27:52.937474",
     "status": "completed"
    },
    "tags": []
   },
   "outputs": [
    {
     "data": {
      "text/plain": [
       "False    7007\n",
       "True     3876\n",
       "Name: CryoSleep, dtype: int64"
      ]
     },
     "execution_count": 30,
     "metadata": {},
     "output_type": "execute_result"
    }
   ],
   "source": [
    "sleep_count = combi['CryoSleep'].value_counts()\n",
    "sleep_count"
   ]
  },
  {
   "cell_type": "markdown",
   "id": "c99ddef6",
   "metadata": {
    "papermill": {
     "duration": 0.026397,
     "end_time": "2022-10-03T04:27:53.030962",
     "exception": false,
     "start_time": "2022-10-03T04:27:53.004565",
     "status": "completed"
    },
    "tags": []
   },
   "source": [
    "#### Destination"
   ]
  },
  {
   "cell_type": "code",
   "execution_count": 31,
   "id": "2d0cab9d",
   "metadata": {
    "execution": {
     "iopub.execute_input": "2022-10-03T04:27:53.087802Z",
     "iopub.status.busy": "2022-10-03T04:27:53.087413Z",
     "iopub.status.idle": "2022-10-03T04:27:53.400349Z",
     "shell.execute_reply": "2022-10-03T04:27:53.399425Z"
    },
    "papermill": {
     "duration": 0.344436,
     "end_time": "2022-10-03T04:27:53.402467",
     "exception": false,
     "start_time": "2022-10-03T04:27:53.058031",
     "status": "completed"
    },
    "tags": []
   },
   "outputs": [
    {
     "data": {
      "text/plain": [
       "<seaborn.axisgrid.FacetGrid at 0x7f9b50a34b50>"
      ]
     },
     "execution_count": 31,
     "metadata": {},
     "output_type": "execute_result"
    },
    {
     "data": {
      "image/png": "[encoded data removed]",
      "text/plain": [
       "<Figure size 360x360 with 1 Axes>"
      ]
     },
     "metadata": {
      "needs_background": "light"
     },
     "output_type": "display_data"
    }
   ],
   "source": [
    "sns.displot(combi['Destination'])"
   ]
  },
  {
   "cell_type": "code",
   "execution_count": 32,
   "id": "2c55b50c",
   "metadata": {
    "execution": {
     "iopub.execute_input": "2022-10-03T04:27:53.459848Z",
     "iopub.status.busy": "2022-10-03T04:27:53.458787Z",
     "iopub.status.idle": "2022-10-03T04:27:53.467809Z",
     "shell.execute_reply": "2022-10-03T04:27:53.466885Z"
    },
    "papermill": {
     "duration": 0.040427,
     "end_time": "2022-10-03T04:27:53.470016",
     "exception": false,
     "start_time": "2022-10-03T04:27:53.429589",
     "status": "completed"
    },
    "tags": []
   },
   "outputs": [
    {
     "data": {
      "text/plain": [
       "TRAPPIST-1e      7532\n",
       "55 Cancri e      2248\n",
       "PSO J318.5-22    1011\n",
       "not listed         92\n",
       "Name: Destination, dtype: int64"
      ]
     },
     "execution_count": 32,
     "metadata": {},
     "output_type": "execute_result"
    }
   ],
   "source": [
    "dest_count = combi['Destination'].value_counts()\n",
    "dest_count"
   ]
  },
  {
   "cell_type": "code",
   "execution_count": 33,
   "id": "fceb293e",
   "metadata": {
    "execution": {
     "iopub.execute_input": "2022-10-03T04:27:53.526943Z",
     "iopub.status.busy": "2022-10-03T04:27:53.526100Z",
     "iopub.status.idle": "2022-10-03T04:27:53.628981Z",
     "shell.execute_reply": "2022-10-03T04:27:53.627348Z"
    },
    "papermill": {
     "duration": 0.135972,
     "end_time": "2022-10-03T04:27:53.633270",
     "exception": false,
     "start_time": "2022-10-03T04:27:53.497298",
     "status": "completed"
    },
    "tags": []
   },
   "outputs": [
    {
     "data": {
      "image/png": "[encoded data removed]",
      "text/plain": [
       "<Figure size 432x288 with 1 Axes>"
      ]
     },
     "metadata": {},
     "output_type": "display_data"
    }
   ],
   "source": [
    "mylabels = [\"TRAPPIST-1e\", \"55 Cancri e\", \"PSO J318.5-22\", \"not listed\"]\n",
    "plt.pie(dest_count, labels=mylabels)\n",
    "plt.show() "
   ]
  },
  {
   "cell_type": "code",
   "execution_count": 34,
   "id": "8619b344",
   "metadata": {
    "execution": {
     "iopub.execute_input": "2022-10-03T04:27:53.737667Z",
     "iopub.status.busy": "2022-10-03T04:27:53.736941Z",
     "iopub.status.idle": "2022-10-03T04:27:53.751548Z",
     "shell.execute_reply": "2022-10-03T04:27:53.750598Z"
    },
    "papermill": {
     "duration": 0.048408,
     "end_time": "2022-10-03T04:27:53.753814",
     "exception": false,
     "start_time": "2022-10-03T04:27:53.705406",
     "status": "completed"
    },
    "tags": []
   },
   "outputs": [
    {
     "data": {
      "text/plain": [
       "0       1\n",
       "1       1\n",
       "2       1\n",
       "3       1\n",
       "4       1\n",
       "       ..\n",
       "4272    1\n",
       "4273    1\n",
       "4274    2\n",
       "4275    4\n",
       "4276    3\n",
       "Name: Destination, Length: 10883, dtype: int64"
      ]
     },
     "execution_count": 34,
     "metadata": {},
     "output_type": "execute_result"
    }
   ],
   "source": [
    "combi['Destination'].replace({\"TRAPPIST-1e\": 1, \"55 Cancri e\": 2, \"PSO J318.5-22\": 3, \"not listed\": 4},inplace=True)\n",
    "combi['Destination']"
   ]
  },
  {
   "cell_type": "markdown",
   "id": "11e8bfc6",
   "metadata": {
    "papermill": {
     "duration": 0.027374,
     "end_time": "2022-10-03T04:27:53.808766",
     "exception": false,
     "start_time": "2022-10-03T04:27:53.781392",
     "status": "completed"
    },
    "tags": []
   },
   "source": [
    "#### Age"
   ]
  },
  {
   "cell_type": "code",
   "execution_count": 35,
   "id": "64e68591",
   "metadata": {
    "execution": {
     "iopub.execute_input": "2022-10-03T04:27:53.866008Z",
     "iopub.status.busy": "2022-10-03T04:27:53.865558Z",
     "iopub.status.idle": "2022-10-03T04:27:53.878304Z",
     "shell.execute_reply": "2022-10-03T04:27:53.877109Z"
    },
    "papermill": {
     "duration": 0.043991,
     "end_time": "2022-10-03T04:27:53.880477",
     "exception": false,
     "start_time": "2022-10-03T04:27:53.836486",
     "status": "completed"
    },
    "tags": []
   },
   "outputs": [
    {
     "data": {
      "text/plain": [
       "0       young adult\n",
       "1       young adult\n",
       "2        middle age\n",
       "3       young adult\n",
       "4             child\n",
       "           ...     \n",
       "4272    young adult\n",
       "4273     middle age\n",
       "4274    young adult\n",
       "4275    young adult\n",
       "4276     middle age\n",
       "Name: Age_group, Length: 10883, dtype: category\n",
       "Categories (4, object): ['child' < 'young adult' < 'middle age' < 'pensioner']"
      ]
     },
     "execution_count": 35,
     "metadata": {},
     "output_type": "execute_result"
    }
   ],
   "source": [
    "combi['Age_group'] = pd.cut(x=combi['Age'], bins=[-1, 18, 40, 65, 100], labels=['child', 'young adult', 'middle age', 'pensioner'])\n",
    "combi['Age_group']"
   ]
  },
  {
   "cell_type": "code",
   "execution_count": 36,
   "id": "b76d09fa",
   "metadata": {
    "execution": {
     "iopub.execute_input": "2022-10-03T04:27:53.938752Z",
     "iopub.status.busy": "2022-10-03T04:27:53.938011Z",
     "iopub.status.idle": "2022-10-03T04:27:54.240309Z",
     "shell.execute_reply": "2022-10-03T04:27:54.239511Z"
    },
    "papermill": {
     "duration": 0.333789,
     "end_time": "2022-10-03T04:27:54.242501",
     "exception": false,
     "start_time": "2022-10-03T04:27:53.908712",
     "status": "completed"
    },
    "tags": []
   },
   "outputs": [
    {
     "data": {
      "text/plain": [
       "<seaborn.axisgrid.FacetGrid at 0x7f9b50920490>"
      ]
     },
     "execution_count": 36,
     "metadata": {},
     "output_type": "execute_result"
    },
    {
     "data": {
      "image/png": "[encoded data removed]",
      "text/plain": [
       "<Figure size 360x360 with 1 Axes>"
      ]
     },
     "metadata": {
      "needs_background": "light"
     },
     "output_type": "display_data"
    }
   ],
   "source": [
    "sns.displot(combi['Age_group'])"
   ]
  },
  {
   "cell_type": "code",
   "execution_count": 37,
   "id": "b74e0b26",
   "metadata": {
    "execution": {
     "iopub.execute_input": "2022-10-03T04:27:54.300674Z",
     "iopub.status.busy": "2022-10-03T04:27:54.299840Z",
     "iopub.status.idle": "2022-10-03T04:27:54.309802Z",
     "shell.execute_reply": "2022-10-03T04:27:54.308664Z"
    },
    "papermill": {
     "duration": 0.041784,
     "end_time": "2022-10-03T04:27:54.312271",
     "exception": false,
     "start_time": "2022-10-03T04:27:54.270487",
     "status": "completed"
    },
    "tags": []
   },
   "outputs": [
    {
     "data": {
      "text/plain": [
       "young adult    6359\n",
       "child          2340\n",
       "middle age     2074\n",
       "pensioner       110\n",
       "Name: Age_group, dtype: int64"
      ]
     },
     "execution_count": 37,
     "metadata": {},
     "output_type": "execute_result"
    }
   ],
   "source": [
    "age_count = combi['Age_group'].value_counts()\n",
    "age_count"
   ]
  },
  {
   "cell_type": "code",
   "execution_count": 38,
   "id": "5244ecef",
   "metadata": {
    "execution": {
     "iopub.execute_input": "2022-10-03T04:27:54.371569Z",
     "iopub.status.busy": "2022-10-03T04:27:54.370705Z",
     "iopub.status.idle": "2022-10-03T04:27:54.470119Z",
     "shell.execute_reply": "2022-10-03T04:27:54.468535Z"
    },
    "papermill": {
     "duration": 0.132894,
     "end_time": "2022-10-03T04:27:54.474250",
     "exception": false,
     "start_time": "2022-10-03T04:27:54.341356",
     "status": "completed"
    },
    "tags": []
   },
   "outputs": [
    {
     "data": {
      "image/png": "[encoded data removed]",
      "text/plain": [
       "<Figure size 432x288 with 1 Axes>"
      ]
     },
     "metadata": {},
     "output_type": "display_data"
    }
   ],
   "source": [
    "mylabels = [\"young adult\", \"child\", \"middle age\", \"pensioner\"]\n",
    "plt.pie(age_count, labels=mylabels)\n",
    "plt.show() "
   ]
  },
  {
   "cell_type": "code",
   "execution_count": 39,
   "id": "32748c35",
   "metadata": {
    "execution": {
     "iopub.execute_input": "2022-10-03T04:27:54.581417Z",
     "iopub.status.busy": "2022-10-03T04:27:54.581037Z",
     "iopub.status.idle": "2022-10-03T04:27:54.595951Z",
     "shell.execute_reply": "2022-10-03T04:27:54.594753Z"
    },
    "papermill": {
     "duration": 0.050702,
     "end_time": "2022-10-03T04:27:54.598380",
     "exception": false,
     "start_time": "2022-10-03T04:27:54.547678",
     "status": "completed"
    },
    "tags": []
   },
   "outputs": [
    {
     "data": {
      "text/plain": [
       "0       1\n",
       "1       1\n",
       "2       3\n",
       "3       1\n",
       "4       2\n",
       "       ..\n",
       "4272    1\n",
       "4273    3\n",
       "4274    1\n",
       "4275    1\n",
       "4276    3\n",
       "Name: Age_group, Length: 10883, dtype: int64"
      ]
     },
     "execution_count": 39,
     "metadata": {},
     "output_type": "execute_result"
    }
   ],
   "source": [
    "combi['Age_group'].replace({\"young adult\": 1, \"child\": 2, \"middle age\": 3, \"pensioner\": 4},inplace=True)\n",
    "combi['Age_group']"
   ]
  },
  {
   "cell_type": "markdown",
   "id": "97f0a949",
   "metadata": {
    "papermill": {
     "duration": 0.028066,
     "end_time": "2022-10-03T04:27:54.655060",
     "exception": false,
     "start_time": "2022-10-03T04:27:54.626994",
     "status": "completed"
    },
    "tags": []
   },
   "source": [
    "#### VIP"
   ]
  },
  {
   "cell_type": "markdown",
   "id": "af14e57a",
   "metadata": {
    "papermill": {
     "duration": 0.028134,
     "end_time": "2022-10-03T04:27:54.711916",
     "exception": false,
     "start_time": "2022-10-03T04:27:54.683782",
     "status": "completed"
    },
    "tags": []
   },
   "source": [
    "for dtype obj to int64"
   ]
  },
  {
   "cell_type": "code",
   "execution_count": 40,
   "id": "f2b57b5a",
   "metadata": {
    "execution": {
     "iopub.execute_input": "2022-10-03T04:27:54.771228Z",
     "iopub.status.busy": "2022-10-03T04:27:54.770699Z",
     "iopub.status.idle": "2022-10-03T04:27:54.781204Z",
     "shell.execute_reply": "2022-10-03T04:27:54.779699Z"
    },
    "papermill": {
     "duration": 0.043318,
     "end_time": "2022-10-03T04:27:54.783609",
     "exception": false,
     "start_time": "2022-10-03T04:27:54.740291",
     "status": "completed"
    },
    "tags": []
   },
   "outputs": [
    {
     "name": "stderr",
     "output_type": "stream",
     "text": [
      "/opt/conda/lib/python3.7/site-packages/ipykernel_launcher.py:1: SettingWithCopyWarning: \n",
      "A value is trying to be set on a copy of a slice from a DataFrame\n",
      "\n",
      "See the caveats in the documentation: https://pandas.pydata.org/pandas-docs/stable/user_guide/indexing.html#returning-a-view-versus-a-copy\n",
      "  \"\"\"Entry point for launching an IPython kernel.\n"
     ]
    }
   ],
   "source": [
    "combi['VIP'][combi['VIP'] == 'not listed'] = False"
   ]
  },
  {
   "cell_type": "code",
   "execution_count": 41,
   "id": "45c4e11f",
   "metadata": {
    "execution": {
     "iopub.execute_input": "2022-10-03T04:27:54.843206Z",
     "iopub.status.busy": "2022-10-03T04:27:54.842510Z",
     "iopub.status.idle": "2022-10-03T04:27:54.854383Z",
     "shell.execute_reply": "2022-10-03T04:27:54.853383Z"
    },
    "papermill": {
     "duration": 0.04394,
     "end_time": "2022-10-03T04:27:54.856555",
     "exception": false,
     "start_time": "2022-10-03T04:27:54.812615",
     "status": "completed"
    },
    "tags": []
   },
   "outputs": [
    {
     "data": {
      "text/plain": [
       "0       0\n",
       "1       0\n",
       "2       1\n",
       "3       0\n",
       "4       0\n",
       "       ..\n",
       "4272    0\n",
       "4273    0\n",
       "4274    0\n",
       "4275    0\n",
       "4276    0\n",
       "Name: VIP, Length: 10883, dtype: int64"
      ]
     },
     "execution_count": 41,
     "metadata": {},
     "output_type": "execute_result"
    }
   ],
   "source": [
    "combi['VIP'].replace({False: 0, True: 1})"
   ]
  },
  {
   "cell_type": "code",
   "execution_count": 42,
   "id": "d2325e15",
   "metadata": {
    "execution": {
     "iopub.execute_input": "2022-10-03T04:27:54.917403Z",
     "iopub.status.busy": "2022-10-03T04:27:54.916766Z",
     "iopub.status.idle": "2022-10-03T04:27:55.302379Z",
     "shell.execute_reply": "2022-10-03T04:27:55.301121Z"
    },
    "papermill": {
     "duration": 0.419117,
     "end_time": "2022-10-03T04:27:55.305008",
     "exception": false,
     "start_time": "2022-10-03T04:27:54.885891",
     "status": "completed"
    },
    "tags": []
   },
   "outputs": [
    {
     "name": "stderr",
     "output_type": "stream",
     "text": [
      "/opt/conda/lib/python3.7/site-packages/seaborn/distributions.py:2619: FutureWarning: `distplot` is a deprecated function and will be removed in a future version. Please adapt your code to use either `displot` (a figure-level function with similar flexibility) or `histplot` (an axes-level function for histograms).\n",
      "  warnings.warn(msg, FutureWarning)\n"
     ]
    },
    {
     "data": {
      "text/plain": [
       "<AxesSubplot:xlabel='VIP', ylabel='Density'>"
      ]
     },
     "execution_count": 42,
     "metadata": {},
     "output_type": "execute_result"
    },
    {
     "data": {
      "image/png": "[encoded data removed]",
      "text/plain": [
       "<Figure size 432x288 with 1 Axes>"
      ]
     },
     "metadata": {
      "needs_background": "light"
     },
     "output_type": "display_data"
    }
   ],
   "source": [
    "sns.distplot(combi['VIP'])"
   ]
  },
  {
   "cell_type": "code",
   "execution_count": 43,
   "id": "58e947c0",
   "metadata": {
    "execution": {
     "iopub.execute_input": "2022-10-03T04:27:55.365302Z",
     "iopub.status.busy": "2022-10-03T04:27:55.364902Z",
     "iopub.status.idle": "2022-10-03T04:27:55.374222Z",
     "shell.execute_reply": "2022-10-03T04:27:55.373135Z"
    },
    "papermill": {
     "duration": 0.042184,
     "end_time": "2022-10-03T04:27:55.376385",
     "exception": false,
     "start_time": "2022-10-03T04:27:55.334201",
     "status": "completed"
    },
    "tags": []
   },
   "outputs": [
    {
     "data": {
      "text/plain": [
       "False    10647\n",
       "True       236\n",
       "Name: VIP, dtype: int64"
      ]
     },
     "execution_count": 43,
     "metadata": {},
     "output_type": "execute_result"
    }
   ],
   "source": [
    "vip_count = combi['VIP'].value_counts()\n",
    "vip_count"
   ]
  },
  {
   "cell_type": "code",
   "execution_count": 44,
   "id": "67f6ced0",
   "metadata": {
    "execution": {
     "iopub.execute_input": "2022-10-03T04:27:55.436642Z",
     "iopub.status.busy": "2022-10-03T04:27:55.436225Z",
     "iopub.status.idle": "2022-10-03T04:27:55.446567Z",
     "shell.execute_reply": "2022-10-03T04:27:55.445628Z"
    },
    "papermill": {
     "duration": 0.043437,
     "end_time": "2022-10-03T04:27:55.449007",
     "exception": false,
     "start_time": "2022-10-03T04:27:55.405570",
     "status": "completed"
    },
    "tags": []
   },
   "outputs": [
    {
     "data": {
      "text/plain": [
       "0       0\n",
       "1       0\n",
       "2       1\n",
       "3       0\n",
       "4       0\n",
       "       ..\n",
       "4272    0\n",
       "4273    0\n",
       "4274    0\n",
       "4275    0\n",
       "4276    0\n",
       "Name: VIP, Length: 10883, dtype: int64"
      ]
     },
     "execution_count": 44,
     "metadata": {},
     "output_type": "execute_result"
    }
   ],
   "source": [
    "combi['VIP'] = combi['VIP'].astype(int)\n",
    "combi['VIP']"
   ]
  },
  {
   "cell_type": "markdown",
   "id": "3d46c5a3",
   "metadata": {
    "papermill": {
     "duration": 0.028972,
     "end_time": "2022-10-03T04:27:55.507141",
     "exception": false,
     "start_time": "2022-10-03T04:27:55.478169",
     "status": "completed"
    },
    "tags": []
   },
   "source": [
    "### Room Service"
   ]
  },
  {
   "cell_type": "code",
   "execution_count": 45,
   "id": "628d2ea9",
   "metadata": {
    "execution": {
     "iopub.execute_input": "2022-10-03T04:27:55.567775Z",
     "iopub.status.busy": "2022-10-03T04:27:55.567400Z",
     "iopub.status.idle": "2022-10-03T04:27:55.835439Z",
     "shell.execute_reply": "2022-10-03T04:27:55.834531Z"
    },
    "papermill": {
     "duration": 0.3013,
     "end_time": "2022-10-03T04:27:55.837622",
     "exception": false,
     "start_time": "2022-10-03T04:27:55.536322",
     "status": "completed"
    },
    "tags": []
   },
   "outputs": [
    {
     "name": "stderr",
     "output_type": "stream",
     "text": [
      "/opt/conda/lib/python3.7/site-packages/seaborn/_decorators.py:43: FutureWarning: Pass the following variable as a keyword arg: x. From version 0.12, the only valid positional argument will be `data`, and passing other arguments without an explicit keyword will result in an error or misinterpretation.\n",
      "  FutureWarning\n"
     ]
    },
    {
     "data": {
      "text/plain": [
       "<AxesSubplot:xlabel='RoomService'>"
      ]
     },
     "execution_count": 45,
     "metadata": {},
     "output_type": "execute_result"
    },
    {
     "data": {
      "image/png": "[encoded data removed]",
      "text/plain": [
       "<Figure size 432x288 with 1 Axes>"
      ]
     },
     "metadata": {
      "needs_background": "light"
     },
     "output_type": "display_data"
    }
   ],
   "source": [
    "sns.violinplot(combi['RoomService'])"
   ]
  },
  {
   "cell_type": "code",
   "execution_count": 46,
   "id": "66b0e255",
   "metadata": {
    "execution": {
     "iopub.execute_input": "2022-10-03T04:27:55.900327Z",
     "iopub.status.busy": "2022-10-03T04:27:55.899279Z",
     "iopub.status.idle": "2022-10-03T04:27:55.911216Z",
     "shell.execute_reply": "2022-10-03T04:27:55.910419Z"
    },
    "papermill": {
     "duration": 0.045824,
     "end_time": "2022-10-03T04:27:55.913207",
     "exception": false,
     "start_time": "2022-10-03T04:27:55.867383",
     "status": "completed"
    },
    "tags": []
   },
   "outputs": [
    {
     "data": {
      "text/plain": [
       "0       low\n",
       "1       low\n",
       "2       low\n",
       "3       low\n",
       "4       low\n",
       "       ... \n",
       "4272    low\n",
       "4273    low\n",
       "4274    low\n",
       "4275    low\n",
       "4276    low\n",
       "Name: Room_Service_group, Length: 10883, dtype: category\n",
       "Categories (3, object): ['low' < 'med' < 'high']"
      ]
     },
     "execution_count": 46,
     "metadata": {},
     "output_type": "execute_result"
    }
   ],
   "source": [
    "combi['Room_Service_group'] = pd.cut(x=combi['RoomService'], bins=[-1, 2000, 8000, 12000], labels=['low', 'med', 'high'])\n",
    "combi['Room_Service_group']"
   ]
  },
  {
   "cell_type": "code",
   "execution_count": 47,
   "id": "a3488f84",
   "metadata": {
    "execution": {
     "iopub.execute_input": "2022-10-03T04:27:55.975223Z",
     "iopub.status.busy": "2022-10-03T04:27:55.974759Z",
     "iopub.status.idle": "2022-10-03T04:27:56.263613Z",
     "shell.execute_reply": "2022-10-03T04:27:56.262365Z"
    },
    "papermill": {
     "duration": 0.322938,
     "end_time": "2022-10-03T04:27:56.266366",
     "exception": false,
     "start_time": "2022-10-03T04:27:55.943428",
     "status": "completed"
    },
    "tags": []
   },
   "outputs": [
    {
     "data": {
      "text/plain": [
       "<seaborn.axisgrid.FacetGrid at 0x7f9b508a5d10>"
      ]
     },
     "execution_count": 47,
     "metadata": {},
     "output_type": "execute_result"
    },
    {
     "data": {
      "image/png": "[encoded data removed]",
      "text/plain": [
       "<Figure size 360x360 with 1 Axes>"
      ]
     },
     "metadata": {
      "needs_background": "light"
     },
     "output_type": "display_data"
    }
   ],
   "source": [
    "sns.displot(combi['Room_Service_group'])\n"
   ]
  },
  {
   "cell_type": "code",
   "execution_count": 48,
   "id": "560d2b81",
   "metadata": {
    "execution": {
     "iopub.execute_input": "2022-10-03T04:27:56.329073Z",
     "iopub.status.busy": "2022-10-03T04:27:56.327978Z",
     "iopub.status.idle": "2022-10-03T04:27:56.339265Z",
     "shell.execute_reply": "2022-10-03T04:27:56.338007Z"
    },
    "papermill": {
     "duration": 0.045268,
     "end_time": "2022-10-03T04:27:56.341754",
     "exception": false,
     "start_time": "2022-10-03T04:27:56.296486",
     "status": "completed"
    },
    "tags": []
   },
   "outputs": [
    {
     "data": {
      "text/plain": [
       "low     10624\n",
       "med       253\n",
       "high        6\n",
       "Name: Room_Service_group, dtype: int64"
      ]
     },
     "execution_count": 48,
     "metadata": {},
     "output_type": "execute_result"
    }
   ],
   "source": [
    "rm_service_count = combi['Room_Service_group'].value_counts()\n",
    "rm_service_count"
   ]
  },
  {
   "cell_type": "code",
   "execution_count": 49,
   "id": "f0ae90df",
   "metadata": {
    "execution": {
     "iopub.execute_input": "2022-10-03T04:27:56.406961Z",
     "iopub.status.busy": "2022-10-03T04:27:56.406095Z",
     "iopub.status.idle": "2022-10-03T04:27:56.501513Z",
     "shell.execute_reply": "2022-10-03T04:27:56.499625Z"
    },
    "papermill": {
     "duration": 0.133998,
     "end_time": "2022-10-03T04:27:56.506399",
     "exception": false,
     "start_time": "2022-10-03T04:27:56.372401",
     "status": "completed"
    },
    "tags": []
   },
   "outputs": [
    {
     "data": {
      "image/png": "[encoded data removed]",
      "text/plain": [
       "<Figure size 432x288 with 1 Axes>"
      ]
     },
     "metadata": {},
     "output_type": "display_data"
    }
   ],
   "source": [
    "mylabels = [\"low\", \"med\", \"high\"]\n",
    "plt.pie(rm_service_count, labels=mylabels)\n",
    "plt.show()"
   ]
  },
  {
   "cell_type": "code",
   "execution_count": 50,
   "id": "496950e8",
   "metadata": {
    "execution": {
     "iopub.execute_input": "2022-10-03T04:27:56.620599Z",
     "iopub.status.busy": "2022-10-03T04:27:56.619892Z",
     "iopub.status.idle": "2022-10-03T04:27:56.632377Z",
     "shell.execute_reply": "2022-10-03T04:27:56.631411Z"
    },
    "papermill": {
     "duration": 0.048673,
     "end_time": "2022-10-03T04:27:56.634503",
     "exception": false,
     "start_time": "2022-10-03T04:27:56.585830",
     "status": "completed"
    },
    "tags": []
   },
   "outputs": [
    {
     "data": {
      "text/plain": [
       "0       1\n",
       "1       1\n",
       "2       1\n",
       "3       1\n",
       "4       1\n",
       "       ..\n",
       "4272    1\n",
       "4273    1\n",
       "4274    1\n",
       "4275    1\n",
       "4276    1\n",
       "Name: Room_Service_group, Length: 10883, dtype: int64"
      ]
     },
     "execution_count": 50,
     "metadata": {},
     "output_type": "execute_result"
    }
   ],
   "source": [
    "combi['Room_Service_group'].replace({\"low\": 1, \"med\": 2, \"high\": 3},inplace=True)\n",
    "combi['Room_Service_group']"
   ]
  },
  {
   "cell_type": "markdown",
   "id": "27fe5dee",
   "metadata": {
    "papermill": {
     "duration": 0.030202,
     "end_time": "2022-10-03T04:27:56.696466",
     "exception": false,
     "start_time": "2022-10-03T04:27:56.666264",
     "status": "completed"
    },
    "tags": []
   },
   "source": [
    "### Food Court"
   ]
  },
  {
   "cell_type": "code",
   "execution_count": 51,
   "id": "8dcefc56",
   "metadata": {
    "execution": {
     "iopub.execute_input": "2022-10-03T04:27:56.759646Z",
     "iopub.status.busy": "2022-10-03T04:27:56.758951Z",
     "iopub.status.idle": "2022-10-03T04:27:57.035076Z",
     "shell.execute_reply": "2022-10-03T04:27:57.034278Z"
    },
    "papermill": {
     "duration": 0.310037,
     "end_time": "2022-10-03T04:27:57.037140",
     "exception": false,
     "start_time": "2022-10-03T04:27:56.727103",
     "status": "completed"
    },
    "tags": []
   },
   "outputs": [
    {
     "name": "stderr",
     "output_type": "stream",
     "text": [
      "/opt/conda/lib/python3.7/site-packages/seaborn/_decorators.py:43: FutureWarning: Pass the following variable as a keyword arg: x. From version 0.12, the only valid positional argument will be `data`, and passing other arguments without an explicit keyword will result in an error or misinterpretation.\n",
      "  FutureWarning\n"
     ]
    },
    {
     "data": {
      "text/plain": [
       "<AxesSubplot:xlabel='FoodCourt'>"
      ]
     },
     "execution_count": 51,
     "metadata": {},
     "output_type": "execute_result"
    },
    {
     "data": {
      "image/png": "[encoded data removed]",
      "text/plain": [
       "<Figure size 432x288 with 1 Axes>"
      ]
     },
     "metadata": {
      "needs_background": "light"
     },
     "output_type": "display_data"
    }
   ],
   "source": [
    "sns.violinplot(combi['FoodCourt'])"
   ]
  },
  {
   "cell_type": "code",
   "execution_count": 52,
   "id": "6f17b42f",
   "metadata": {
    "execution": {
     "iopub.execute_input": "2022-10-03T04:27:57.101969Z",
     "iopub.status.busy": "2022-10-03T04:27:57.101521Z",
     "iopub.status.idle": "2022-10-03T04:27:57.114921Z",
     "shell.execute_reply": "2022-10-03T04:27:57.113753Z"
    },
    "papermill": {
     "duration": 0.048683,
     "end_time": "2022-10-03T04:27:57.117260",
     "exception": false,
     "start_time": "2022-10-03T04:27:57.068577",
     "status": "completed"
    },
    "tags": []
   },
   "outputs": [
    {
     "data": {
      "text/plain": [
       "0       low\n",
       "1       low\n",
       "2       low\n",
       "3       low\n",
       "4       low\n",
       "       ... \n",
       "4272    low\n",
       "4273    low\n",
       "4274    low\n",
       "4275    low\n",
       "4276    low\n",
       "Name: Food_Court_group, Length: 10883, dtype: category\n",
       "Categories (3, object): ['low' < 'med' < 'high']"
      ]
     },
     "execution_count": 52,
     "metadata": {},
     "output_type": "execute_result"
    }
   ],
   "source": [
    "combi['Food_Court_group'] = pd.cut(x=combi['FoodCourt'], bins=[-1, 5000, 20000, 30000], labels=['low', 'med', 'high'])\n",
    "combi['Food_Court_group']"
   ]
  },
  {
   "cell_type": "code",
   "execution_count": 53,
   "id": "01b314f2",
   "metadata": {
    "execution": {
     "iopub.execute_input": "2022-10-03T04:27:57.183533Z",
     "iopub.status.busy": "2022-10-03T04:27:57.182491Z",
     "iopub.status.idle": "2022-10-03T04:27:57.469050Z",
     "shell.execute_reply": "2022-10-03T04:27:57.468186Z"
    },
    "papermill": {
     "duration": 0.321675,
     "end_time": "2022-10-03T04:27:57.471454",
     "exception": false,
     "start_time": "2022-10-03T04:27:57.149779",
     "status": "completed"
    },
    "tags": []
   },
   "outputs": [
    {
     "data": {
      "text/plain": [
       "<seaborn.axisgrid.FacetGrid at 0x7f9b4857fe10>"
      ]
     },
     "execution_count": 53,
     "metadata": {},
     "output_type": "execute_result"
    },
    {
     "data": {
      "image/png": "[encoded data removed]",
      "text/plain": [
       "<Figure size 360x360 with 1 Axes>"
      ]
     },
     "metadata": {
      "needs_background": "light"
     },
     "output_type": "display_data"
    }
   ],
   "source": [
    "sns.displot(combi['Food_Court_group'])"
   ]
  },
  {
   "cell_type": "code",
   "execution_count": 54,
   "id": "e4c0d8ad",
   "metadata": {
    "execution": {
     "iopub.execute_input": "2022-10-03T04:27:57.536115Z",
     "iopub.status.busy": "2022-10-03T04:27:57.535707Z",
     "iopub.status.idle": "2022-10-03T04:27:57.544908Z",
     "shell.execute_reply": "2022-10-03T04:27:57.544024Z"
    },
    "papermill": {
     "duration": 0.04416,
     "end_time": "2022-10-03T04:27:57.547135",
     "exception": false,
     "start_time": "2022-10-03T04:27:57.502975",
     "status": "completed"
    },
    "tags": []
   },
   "outputs": [
    {
     "data": {
      "text/plain": [
       "low     10640\n",
       "med       235\n",
       "high        8\n",
       "Name: Food_Court_group, dtype: int64"
      ]
     },
     "execution_count": 54,
     "metadata": {},
     "output_type": "execute_result"
    }
   ],
   "source": [
    "fd_court_count = combi['Food_Court_group'].value_counts()\n",
    "fd_court_count"
   ]
  },
  {
   "cell_type": "code",
   "execution_count": 55,
   "id": "e1cc63ad",
   "metadata": {
    "execution": {
     "iopub.execute_input": "2022-10-03T04:27:57.612185Z",
     "iopub.status.busy": "2022-10-03T04:27:57.611412Z",
     "iopub.status.idle": "2022-10-03T04:27:57.706274Z",
     "shell.execute_reply": "2022-10-03T04:27:57.704644Z"
    },
    "papermill": {
     "duration": 0.132038,
     "end_time": "2022-10-03T04:27:57.710482",
     "exception": false,
     "start_time": "2022-10-03T04:27:57.578444",
     "status": "completed"
    },
    "tags": []
   },
   "outputs": [
    {
     "data": {
      "image/png": "[encoded data removed]",
      "text/plain": [
       "<Figure size 432x288 with 1 Axes>"
      ]
     },
     "metadata": {},
     "output_type": "display_data"
    }
   ],
   "source": [
    "mylabels = [\"low\", \"med\", \"high\"]\n",
    "plt.pie(fd_court_count, labels=mylabels)\n",
    "plt.show()"
   ]
  },
  {
   "cell_type": "code",
   "execution_count": 56,
   "id": "c1e13d50",
   "metadata": {
    "execution": {
     "iopub.execute_input": "2022-10-03T04:27:57.829537Z",
     "iopub.status.busy": "2022-10-03T04:27:57.828552Z",
     "iopub.status.idle": "2022-10-03T04:27:57.841002Z",
     "shell.execute_reply": "2022-10-03T04:27:57.840218Z"
    },
    "papermill": {
     "duration": 0.048294,
     "end_time": "2022-10-03T04:27:57.843003",
     "exception": false,
     "start_time": "2022-10-03T04:27:57.794709",
     "status": "completed"
    },
    "tags": []
   },
   "outputs": [
    {
     "data": {
      "text/plain": [
       "0       1\n",
       "1       1\n",
       "2       1\n",
       "3       1\n",
       "4       1\n",
       "       ..\n",
       "4272    1\n",
       "4273    1\n",
       "4274    1\n",
       "4275    1\n",
       "4276    1\n",
       "Name: Food_Court_group, Length: 10883, dtype: int64"
      ]
     },
     "execution_count": 56,
     "metadata": {},
     "output_type": "execute_result"
    }
   ],
   "source": [
    "combi['Food_Court_group'].replace({\"low\": 1, \"med\": 2, \"high\": 3},inplace=True)\n",
    "combi['Food_Court_group']"
   ]
  },
  {
   "cell_type": "markdown",
   "id": "3b06e896",
   "metadata": {
    "papermill": {
     "duration": 0.031442,
     "end_time": "2022-10-03T04:27:57.906173",
     "exception": false,
     "start_time": "2022-10-03T04:27:57.874731",
     "status": "completed"
    },
    "tags": []
   },
   "source": [
    "### Shopping Mall"
   ]
  },
  {
   "cell_type": "code",
   "execution_count": 57,
   "id": "cba58be7",
   "metadata": {
    "execution": {
     "iopub.execute_input": "2022-10-03T04:27:57.972481Z",
     "iopub.status.busy": "2022-10-03T04:27:57.971750Z",
     "iopub.status.idle": "2022-10-03T04:27:58.327609Z",
     "shell.execute_reply": "2022-10-03T04:27:58.326037Z"
    },
    "papermill": {
     "duration": 0.394868,
     "end_time": "2022-10-03T04:27:58.333359",
     "exception": false,
     "start_time": "2022-10-03T04:27:57.938491",
     "status": "completed"
    },
    "tags": []
   },
   "outputs": [
    {
     "name": "stderr",
     "output_type": "stream",
     "text": [
      "/opt/conda/lib/python3.7/site-packages/seaborn/_decorators.py:43: FutureWarning: Pass the following variable as a keyword arg: x. From version 0.12, the only valid positional argument will be `data`, and passing other arguments without an explicit keyword will result in an error or misinterpretation.\n",
      "  FutureWarning\n"
     ]
    },
    {
     "data": {
      "text/plain": [
       "<AxesSubplot:xlabel='ShoppingMall'>"
      ]
     },
     "execution_count": 57,
     "metadata": {},
     "output_type": "execute_result"
    },
    {
     "data": {
      "image/png": "[encoded data removed]",
      "text/plain": [
       "<Figure size 432x288 with 1 Axes>"
      ]
     },
     "metadata": {
      "needs_background": "light"
     },
     "output_type": "display_data"
    }
   ],
   "source": [
    "sns.violinplot(combi['ShoppingMall'])"
   ]
  },
  {
   "cell_type": "code",
   "execution_count": 58,
   "id": "1b285e9c",
   "metadata": {
    "execution": {
     "iopub.execute_input": "2022-10-03T04:27:58.417426Z",
     "iopub.status.busy": "2022-10-03T04:27:58.416280Z",
     "iopub.status.idle": "2022-10-03T04:27:58.430526Z",
     "shell.execute_reply": "2022-10-03T04:27:58.429233Z"
    },
    "papermill": {
     "duration": 0.055376,
     "end_time": "2022-10-03T04:27:58.432932",
     "exception": false,
     "start_time": "2022-10-03T04:27:58.377556",
     "status": "completed"
    },
    "tags": []
   },
   "outputs": [
    {
     "data": {
      "text/plain": [
       "0       low\n",
       "1       low\n",
       "2       low\n",
       "3       low\n",
       "4       low\n",
       "       ... \n",
       "4272    low\n",
       "4273    low\n",
       "4274    low\n",
       "4275    low\n",
       "4276    low\n",
       "Name: Shopping_group, Length: 10883, dtype: category\n",
       "Categories (3, object): ['low' < 'med' < 'high']"
      ]
     },
     "execution_count": 58,
     "metadata": {},
     "output_type": "execute_result"
    }
   ],
   "source": [
    "combi['Shopping_group'] = pd.cut(x=combi['ShoppingMall'], bins=[-1, 2000, 8000, 13000], labels=['low', 'med', 'high'])\n",
    "combi['Shopping_group']"
   ]
  },
  {
   "cell_type": "code",
   "execution_count": 59,
   "id": "0afee1a2",
   "metadata": {
    "execution": {
     "iopub.execute_input": "2022-10-03T04:27:58.500810Z",
     "iopub.status.busy": "2022-10-03T04:27:58.500005Z",
     "iopub.status.idle": "2022-10-03T04:27:58.784004Z",
     "shell.execute_reply": "2022-10-03T04:27:58.783118Z"
    },
    "papermill": {
     "duration": 0.32073,
     "end_time": "2022-10-03T04:27:58.786364",
     "exception": false,
     "start_time": "2022-10-03T04:27:58.465634",
     "status": "completed"
    },
    "tags": []
   },
   "outputs": [
    {
     "data": {
      "text/plain": [
       "<seaborn.axisgrid.FacetGrid at 0x7f9b48462250>"
      ]
     },
     "execution_count": 59,
     "metadata": {},
     "output_type": "execute_result"
    },
    {
     "data": {
      "image/png": "[encoded data removed]",
      "text/plain": [
       "<Figure size 360x360 with 1 Axes>"
      ]
     },
     "metadata": {
      "needs_background": "light"
     },
     "output_type": "display_data"
    }
   ],
   "source": [
    "sns.displot(combi['Shopping_group'])"
   ]
  },
  {
   "cell_type": "code",
   "execution_count": 60,
   "id": "a0928164",
   "metadata": {
    "execution": {
     "iopub.execute_input": "2022-10-03T04:27:58.855183Z",
     "iopub.status.busy": "2022-10-03T04:27:58.854477Z",
     "iopub.status.idle": "2022-10-03T04:27:58.864295Z",
     "shell.execute_reply": "2022-10-03T04:27:58.863224Z"
    },
    "papermill": {
     "duration": 0.047069,
     "end_time": "2022-10-03T04:27:58.866565",
     "exception": false,
     "start_time": "2022-10-03T04:27:58.819496",
     "status": "completed"
    },
    "tags": []
   },
   "outputs": [
    {
     "data": {
      "text/plain": [
       "low     10709\n",
       "med       166\n",
       "high        8\n",
       "Name: Shopping_group, dtype: int64"
      ]
     },
     "execution_count": 60,
     "metadata": {},
     "output_type": "execute_result"
    }
   ],
   "source": [
    "shopping_count = combi['Shopping_group'].value_counts()\n",
    "shopping_count"
   ]
  },
  {
   "cell_type": "code",
   "execution_count": 61,
   "id": "a93f62b0",
   "metadata": {
    "execution": {
     "iopub.execute_input": "2022-10-03T04:27:58.934930Z",
     "iopub.status.busy": "2022-10-03T04:27:58.934265Z",
     "iopub.status.idle": "2022-10-03T04:27:59.013087Z",
     "shell.execute_reply": "2022-10-03T04:27:59.012063Z"
    },
    "papermill": {
     "duration": 0.11606,
     "end_time": "2022-10-03T04:27:59.015490",
     "exception": false,
     "start_time": "2022-10-03T04:27:58.899430",
     "status": "completed"
    },
    "tags": []
   },
   "outputs": [
    {
     "data": {
      "image/png": "[encoded data removed]",
      "text/plain": [
       "<Figure size 432x288 with 1 Axes>"
      ]
     },
     "metadata": {},
     "output_type": "display_data"
    }
   ],
   "source": [
    "mylabels = [\"low\", \"med\", \"high\"]\n",
    "plt.pie(shopping_count, labels=mylabels)\n",
    "plt.show()"
   ]
  },
  {
   "cell_type": "code",
   "execution_count": 62,
   "id": "00f9fe52",
   "metadata": {
    "execution": {
     "iopub.execute_input": "2022-10-03T04:27:59.085221Z",
     "iopub.status.busy": "2022-10-03T04:27:59.084450Z",
     "iopub.status.idle": "2022-10-03T04:27:59.098411Z",
     "shell.execute_reply": "2022-10-03T04:27:59.097360Z"
    },
    "papermill": {
     "duration": 0.051575,
     "end_time": "2022-10-03T04:27:59.100799",
     "exception": false,
     "start_time": "2022-10-03T04:27:59.049224",
     "status": "completed"
    },
    "tags": []
   },
   "outputs": [
    {
     "data": {
      "text/plain": [
       "0       1\n",
       "1       1\n",
       "2       1\n",
       "3       1\n",
       "4       1\n",
       "       ..\n",
       "4272    1\n",
       "4273    1\n",
       "4274    1\n",
       "4275    1\n",
       "4276    1\n",
       "Name: Shopping_group, Length: 10883, dtype: int64"
      ]
     },
     "execution_count": 62,
     "metadata": {},
     "output_type": "execute_result"
    }
   ],
   "source": [
    "combi['Shopping_group'].replace({\"low\": 1, \"med\": 2, \"high\": 3},inplace=True)\n",
    "combi['Shopping_group']"
   ]
  },
  {
   "cell_type": "markdown",
   "id": "7287f1ca",
   "metadata": {
    "papermill": {
     "duration": 0.034774,
     "end_time": "2022-10-03T04:27:59.170010",
     "exception": false,
     "start_time": "2022-10-03T04:27:59.135236",
     "status": "completed"
    },
    "tags": []
   },
   "source": [
    "### Spa"
   ]
  },
  {
   "cell_type": "code",
   "execution_count": 63,
   "id": "2d28f98f",
   "metadata": {
    "execution": {
     "iopub.execute_input": "2022-10-03T04:27:59.241463Z",
     "iopub.status.busy": "2022-10-03T04:27:59.241076Z",
     "iopub.status.idle": "2022-10-03T04:27:59.448749Z",
     "shell.execute_reply": "2022-10-03T04:27:59.447612Z"
    },
    "papermill": {
     "duration": 0.245476,
     "end_time": "2022-10-03T04:27:59.451525",
     "exception": false,
     "start_time": "2022-10-03T04:27:59.206049",
     "status": "completed"
    },
    "tags": []
   },
   "outputs": [
    {
     "name": "stderr",
     "output_type": "stream",
     "text": [
      "/opt/conda/lib/python3.7/site-packages/seaborn/_decorators.py:43: FutureWarning: Pass the following variable as a keyword arg: x. From version 0.12, the only valid positional argument will be `data`, and passing other arguments without an explicit keyword will result in an error or misinterpretation.\n",
      "  FutureWarning\n"
     ]
    },
    {
     "data": {
      "text/plain": [
       "<AxesSubplot:xlabel='Spa'>"
      ]
     },
     "execution_count": 63,
     "metadata": {},
     "output_type": "execute_result"
    },
    {
     "data": {
      "image/png": "[encoded data removed]",
      "text/plain": [
       "<Figure size 432x288 with 1 Axes>"
      ]
     },
     "metadata": {
      "needs_background": "light"
     },
     "output_type": "display_data"
    }
   ],
   "source": [
    "sns.violinplot(combi['Spa'])"
   ]
  },
  {
   "cell_type": "code",
   "execution_count": 64,
   "id": "113ece7b",
   "metadata": {
    "execution": {
     "iopub.execute_input": "2022-10-03T04:27:59.522576Z",
     "iopub.status.busy": "2022-10-03T04:27:59.521045Z",
     "iopub.status.idle": "2022-10-03T04:27:59.535035Z",
     "shell.execute_reply": "2022-10-03T04:27:59.533878Z"
    },
    "papermill": {
     "duration": 0.052011,
     "end_time": "2022-10-03T04:27:59.537355",
     "exception": false,
     "start_time": "2022-10-03T04:27:59.485344",
     "status": "completed"
    },
    "tags": []
   },
   "outputs": [
    {
     "data": {
      "text/plain": [
       "0       low\n",
       "1       low\n",
       "2       med\n",
       "3       low\n",
       "4       low\n",
       "       ... \n",
       "4272    low\n",
       "4273    low\n",
       "4274    low\n",
       "4275    low\n",
       "4276    low\n",
       "Name: Spa_group, Length: 10883, dtype: category\n",
       "Categories (3, object): ['low' < 'med' < 'high']"
      ]
     },
     "execution_count": 64,
     "metadata": {},
     "output_type": "execute_result"
    }
   ],
   "source": [
    "combi['Spa_group'] = pd.cut(x=combi['Spa'], bins=[-1, 5000, 15000, 23000], labels=['low', 'med', 'high'])\n",
    "combi['Spa_group']"
   ]
  },
  {
   "cell_type": "code",
   "execution_count": 65,
   "id": "73bb4827",
   "metadata": {
    "execution": {
     "iopub.execute_input": "2022-10-03T04:27:59.608069Z",
     "iopub.status.busy": "2022-10-03T04:27:59.606959Z",
     "iopub.status.idle": "2022-10-03T04:27:59.897594Z",
     "shell.execute_reply": "2022-10-03T04:27:59.896618Z"
    },
    "papermill": {
     "duration": 0.328906,
     "end_time": "2022-10-03T04:27:59.900475",
     "exception": false,
     "start_time": "2022-10-03T04:27:59.571569",
     "status": "completed"
    },
    "tags": []
   },
   "outputs": [
    {
     "data": {
      "text/plain": [
       "<seaborn.axisgrid.FacetGrid at 0x7f9b5095afd0>"
      ]
     },
     "execution_count": 65,
     "metadata": {},
     "output_type": "execute_result"
    },
    {
     "data": {
      "image/png": "[encoded data removed]",
      "text/plain": [
       "<Figure size 360x360 with 1 Axes>"
      ]
     },
     "metadata": {
      "needs_background": "light"
     },
     "output_type": "display_data"
    }
   ],
   "source": [
    "sns.displot(combi['Spa_group'])"
   ]
  },
  {
   "cell_type": "code",
   "execution_count": 66,
   "id": "b862cf4f",
   "metadata": {
    "execution": {
     "iopub.execute_input": "2022-10-03T04:27:59.971502Z",
     "iopub.status.busy": "2022-10-03T04:27:59.971018Z",
     "iopub.status.idle": "2022-10-03T04:27:59.981255Z",
     "shell.execute_reply": "2022-10-03T04:27:59.980162Z"
    },
    "papermill": {
     "duration": 0.047925,
     "end_time": "2022-10-03T04:27:59.983564",
     "exception": false,
     "start_time": "2022-10-03T04:27:59.935639",
     "status": "completed"
    },
    "tags": []
   },
   "outputs": [
    {
     "data": {
      "text/plain": [
       "low     10762\n",
       "med       112\n",
       "high        9\n",
       "Name: Spa_group, dtype: int64"
      ]
     },
     "execution_count": 66,
     "metadata": {},
     "output_type": "execute_result"
    }
   ],
   "source": [
    "spa_count = combi['Spa_group'].value_counts()\n",
    "spa_count"
   ]
  },
  {
   "cell_type": "code",
   "execution_count": 67,
   "id": "aec5f4b5",
   "metadata": {
    "execution": {
     "iopub.execute_input": "2022-10-03T04:28:00.054555Z",
     "iopub.status.busy": "2022-10-03T04:28:00.053876Z",
     "iopub.status.idle": "2022-10-03T04:28:00.149359Z",
     "shell.execute_reply": "2022-10-03T04:28:00.147322Z"
    },
    "papermill": {
     "duration": 0.136247,
     "end_time": "2022-10-03T04:28:00.154193",
     "exception": false,
     "start_time": "2022-10-03T04:28:00.017946",
     "status": "completed"
    },
    "tags": []
   },
   "outputs": [
    {
     "data": {
      "image/png": "[encoded data removed]",
      "text/plain": [
       "<Figure size 432x288 with 1 Axes>"
      ]
     },
     "metadata": {},
     "output_type": "display_data"
    }
   ],
   "source": [
    "mylabels = [\"low\", \"med\", \"high\"]\n",
    "plt.pie(spa_count, labels=mylabels)\n",
    "plt.show()"
   ]
  },
  {
   "cell_type": "code",
   "execution_count": 68,
   "id": "d5bd735f",
   "metadata": {
    "execution": {
     "iopub.execute_input": "2022-10-03T04:28:00.297620Z",
     "iopub.status.busy": "2022-10-03T04:28:00.297077Z",
     "iopub.status.idle": "2022-10-03T04:28:00.314947Z",
     "shell.execute_reply": "2022-10-03T04:28:00.313920Z"
    },
    "papermill": {
     "duration": 0.070581,
     "end_time": "2022-10-03T04:28:00.317790",
     "exception": false,
     "start_time": "2022-10-03T04:28:00.247209",
     "status": "completed"
    },
    "tags": []
   },
   "outputs": [
    {
     "data": {
      "text/plain": [
       "0       1\n",
       "1       1\n",
       "2       2\n",
       "3       1\n",
       "4       1\n",
       "       ..\n",
       "4272    1\n",
       "4273    1\n",
       "4274    1\n",
       "4275    1\n",
       "4276    1\n",
       "Name: Spa_group, Length: 10883, dtype: int64"
      ]
     },
     "execution_count": 68,
     "metadata": {},
     "output_type": "execute_result"
    }
   ],
   "source": [
    "combi['Spa_group'].replace({\"low\": 1, \"med\": 2, \"high\": 3},inplace=True)\n",
    "combi['Spa_group']"
   ]
  },
  {
   "cell_type": "markdown",
   "id": "bd131ca3",
   "metadata": {
    "papermill": {
     "duration": 0.034612,
     "end_time": "2022-10-03T04:28:00.391951",
     "exception": false,
     "start_time": "2022-10-03T04:28:00.357339",
     "status": "completed"
    },
    "tags": []
   },
   "source": [
    "### VR Deck"
   ]
  },
  {
   "cell_type": "code",
   "execution_count": 69,
   "id": "991add3f",
   "metadata": {
    "execution": {
     "iopub.execute_input": "2022-10-03T04:28:00.463638Z",
     "iopub.status.busy": "2022-10-03T04:28:00.463082Z",
     "iopub.status.idle": "2022-10-03T04:28:00.728531Z",
     "shell.execute_reply": "2022-10-03T04:28:00.727335Z"
    },
    "papermill": {
     "duration": 0.30462,
     "end_time": "2022-10-03T04:28:00.731241",
     "exception": false,
     "start_time": "2022-10-03T04:28:00.426621",
     "status": "completed"
    },
    "tags": []
   },
   "outputs": [
    {
     "name": "stderr",
     "output_type": "stream",
     "text": [
      "/opt/conda/lib/python3.7/site-packages/seaborn/_decorators.py:43: FutureWarning: Pass the following variable as a keyword arg: x. From version 0.12, the only valid positional argument will be `data`, and passing other arguments without an explicit keyword will result in an error or misinterpretation.\n",
      "  FutureWarning\n"
     ]
    },
    {
     "data": {
      "text/plain": [
       "<AxesSubplot:xlabel='VRDeck'>"
      ]
     },
     "execution_count": 69,
     "metadata": {},
     "output_type": "execute_result"
    },
    {
     "data": {
      "image/png": "[encoded data removed]",
      "text/plain": [
       "<Figure size 432x288 with 1 Axes>"
      ]
     },
     "metadata": {
      "needs_background": "light"
     },
     "output_type": "display_data"
    }
   ],
   "source": [
    "sns.violinplot(combi['VRDeck'])"
   ]
  },
  {
   "cell_type": "code",
   "execution_count": 70,
   "id": "9da7e31f",
   "metadata": {
    "execution": {
     "iopub.execute_input": "2022-10-03T04:28:00.804486Z",
     "iopub.status.busy": "2022-10-03T04:28:00.804070Z",
     "iopub.status.idle": "2022-10-03T04:28:00.816403Z",
     "shell.execute_reply": "2022-10-03T04:28:00.815607Z"
    },
    "papermill": {
     "duration": 0.052005,
     "end_time": "2022-10-03T04:28:00.818536",
     "exception": false,
     "start_time": "2022-10-03T04:28:00.766531",
     "status": "completed"
    },
    "tags": []
   },
   "outputs": [
    {
     "data": {
      "text/plain": [
       "0       low\n",
       "1       low\n",
       "2       low\n",
       "3       low\n",
       "4       low\n",
       "       ... \n",
       "4272    low\n",
       "4273    low\n",
       "4274    low\n",
       "4275    low\n",
       "4276    low\n",
       "Name: VR_group, Length: 10883, dtype: category\n",
       "Categories (3, object): ['low' < 'med' < 'high']"
      ]
     },
     "execution_count": 70,
     "metadata": {},
     "output_type": "execute_result"
    }
   ],
   "source": [
    "combi['VR_group'] = pd.cut(x=combi['VRDeck'], bins=[-1, 5000, 15000, 23000], labels=['low', 'med', 'high'])\n",
    "combi['VR_group']"
   ]
  },
  {
   "cell_type": "code",
   "execution_count": 71,
   "id": "511b2326",
   "metadata": {
    "execution": {
     "iopub.execute_input": "2022-10-03T04:28:00.891718Z",
     "iopub.status.busy": "2022-10-03T04:28:00.891115Z",
     "iopub.status.idle": "2022-10-03T04:28:01.174313Z",
     "shell.execute_reply": "2022-10-03T04:28:01.173398Z"
    },
    "papermill": {
     "duration": 0.322896,
     "end_time": "2022-10-03T04:28:01.176599",
     "exception": false,
     "start_time": "2022-10-03T04:28:00.853703",
     "status": "completed"
    },
    "tags": []
   },
   "outputs": [
    {
     "data": {
      "text/plain": [
       "<seaborn.axisgrid.FacetGrid at 0x7f9b50a1b150>"
      ]
     },
     "execution_count": 71,
     "metadata": {},
     "output_type": "execute_result"
    },
    {
     "data": {
      "image/png": "[encoded data removed]",
      "text/plain": [
       "<Figure size 360x360 with 1 Axes>"
      ]
     },
     "metadata": {
      "needs_background": "light"
     },
     "output_type": "display_data"
    }
   ],
   "source": [
    "sns.displot(combi['VR_group'])"
   ]
  },
  {
   "cell_type": "code",
   "execution_count": 72,
   "id": "5767a70d",
   "metadata": {
    "execution": {
     "iopub.execute_input": "2022-10-03T04:28:01.251497Z",
     "iopub.status.busy": "2022-10-03T04:28:01.250809Z",
     "iopub.status.idle": "2022-10-03T04:28:01.259294Z",
     "shell.execute_reply": "2022-10-03T04:28:01.258098Z"
    },
    "papermill": {
     "duration": 0.0482,
     "end_time": "2022-10-03T04:28:01.261418",
     "exception": false,
     "start_time": "2022-10-03T04:28:01.213218",
     "status": "completed"
    },
    "tags": []
   },
   "outputs": [
    {
     "data": {
      "text/plain": [
       "low     10746\n",
       "med       127\n",
       "high       10\n",
       "Name: VR_group, dtype: int64"
      ]
     },
     "execution_count": 72,
     "metadata": {},
     "output_type": "execute_result"
    }
   ],
   "source": [
    "vr_count = combi['VR_group'].value_counts()\n",
    "vr_count"
   ]
  },
  {
   "cell_type": "code",
   "execution_count": 73,
   "id": "61042514",
   "metadata": {
    "execution": {
     "iopub.execute_input": "2022-10-03T04:28:01.336619Z",
     "iopub.status.busy": "2022-10-03T04:28:01.336013Z",
     "iopub.status.idle": "2022-10-03T04:28:01.428453Z",
     "shell.execute_reply": "2022-10-03T04:28:01.426910Z"
    },
    "papermill": {
     "duration": 0.134696,
     "end_time": "2022-10-03T04:28:01.432488",
     "exception": false,
     "start_time": "2022-10-03T04:28:01.297792",
     "status": "completed"
    },
    "tags": []
   },
   "outputs": [
    {
     "data": {
      "image/png": "[encoded data removed]",
      "text/plain": [
       "<Figure size 432x288 with 1 Axes>"
      ]
     },
     "metadata": {},
     "output_type": "display_data"
    }
   ],
   "source": [
    "mylabels = [\"low\", \"med\", \"high\"]\n",
    "plt.pie(vr_count, labels=mylabels)\n",
    "plt.show()"
   ]
  },
  {
   "cell_type": "code",
   "execution_count": 74,
   "id": "b3a0ee44",
   "metadata": {
    "execution": {
     "iopub.execute_input": "2022-10-03T04:28:01.558877Z",
     "iopub.status.busy": "2022-10-03T04:28:01.558165Z",
     "iopub.status.idle": "2022-10-03T04:28:01.570566Z",
     "shell.execute_reply": "2022-10-03T04:28:01.569412Z"
    },
    "papermill": {
     "duration": 0.051959,
     "end_time": "2022-10-03T04:28:01.572850",
     "exception": false,
     "start_time": "2022-10-03T04:28:01.520891",
     "status": "completed"
    },
    "tags": []
   },
   "outputs": [
    {
     "data": {
      "text/plain": [
       "0       1\n",
       "1       1\n",
       "2       1\n",
       "3       1\n",
       "4       1\n",
       "       ..\n",
       "4272    1\n",
       "4273    1\n",
       "4274    1\n",
       "4275    1\n",
       "4276    1\n",
       "Name: VR_group, Length: 10883, dtype: int64"
      ]
     },
     "execution_count": 74,
     "metadata": {},
     "output_type": "execute_result"
    }
   ],
   "source": [
    "combi['VR_group'].replace({\"low\": 1, \"med\": 2, \"high\": 3},inplace=True)\n",
    "combi['VR_group']"
   ]
  },
  {
   "cell_type": "markdown",
   "id": "d7b7bc41",
   "metadata": {
    "papermill": {
     "duration": 0.035253,
     "end_time": "2022-10-03T04:28:01.643848",
     "exception": false,
     "start_time": "2022-10-03T04:28:01.608595",
     "status": "completed"
    },
    "tags": []
   },
   "source": [
    "### Assign features"
   ]
  },
  {
   "cell_type": "code",
   "execution_count": 75,
   "id": "365d90ff",
   "metadata": {
    "execution": {
     "iopub.execute_input": "2022-10-03T04:28:01.717975Z",
     "iopub.status.busy": "2022-10-03T04:28:01.717286Z",
     "iopub.status.idle": "2022-10-03T04:28:01.733802Z",
     "shell.execute_reply": "2022-10-03T04:28:01.732691Z"
    },
    "papermill": {
     "duration": 0.056684,
     "end_time": "2022-10-03T04:28:01.736419",
     "exception": false,
     "start_time": "2022-10-03T04:28:01.679735",
     "status": "completed"
    },
    "tags": []
   },
   "outputs": [
    {
     "name": "stdout",
     "output_type": "stream",
     "text": [
      "<class 'pandas.core.frame.DataFrame'>\n",
      "Int64Index: 10883 entries, 0 to 4276\n",
      "Data columns (total 19 columns):\n",
      " #   Column              Non-Null Count  Dtype  \n",
      "---  ------              --------------  -----  \n",
      " 0   PassengerId         10883 non-null  object \n",
      " 1   HomePlanet          10883 non-null  int64  \n",
      " 2   CryoSleep           10883 non-null  object \n",
      " 3   Cabin               10883 non-null  object \n",
      " 4   Destination         10883 non-null  int64  \n",
      " 5   Age                 10883 non-null  float64\n",
      " 6   VIP                 10883 non-null  int64  \n",
      " 7   RoomService         10883 non-null  float64\n",
      " 8   FoodCourt           10883 non-null  float64\n",
      " 9   ShoppingMall        10883 non-null  float64\n",
      " 10  Spa                 10883 non-null  float64\n",
      " 11  VRDeck              10883 non-null  float64\n",
      " 12  Name                10883 non-null  object \n",
      " 13  Age_group           10883 non-null  int64  \n",
      " 14  Room_Service_group  10883 non-null  int64  \n",
      " 15  Food_Court_group    10883 non-null  int64  \n",
      " 16  Shopping_group      10883 non-null  int64  \n",
      " 17  Spa_group           10883 non-null  int64  \n",
      " 18  VR_group            10883 non-null  int64  \n",
      "dtypes: float64(6), int64(9), object(4)\n",
      "memory usage: 1.7+ MB\n"
     ]
    }
   ],
   "source": [
    "combi.info()"
   ]
  },
  {
   "cell_type": "markdown",
   "id": "25523e16",
   "metadata": {
    "papermill": {
     "duration": 0.035212,
     "end_time": "2022-10-03T04:28:01.874263",
     "exception": false,
     "start_time": "2022-10-03T04:28:01.839051",
     "status": "completed"
    },
    "tags": []
   },
   "source": [
    "#### Define X and y"
   ]
  },
  {
   "cell_type": "code",
   "execution_count": 76,
   "id": "6e965622",
   "metadata": {
    "execution": {
     "iopub.execute_input": "2022-10-03T04:28:01.949660Z",
     "iopub.status.busy": "2022-10-03T04:28:01.949234Z",
     "iopub.status.idle": "2022-10-03T04:28:01.961685Z",
     "shell.execute_reply": "2022-10-03T04:28:01.960429Z"
    },
    "papermill": {
     "duration": 0.053552,
     "end_time": "2022-10-03T04:28:01.964349",
     "exception": false,
     "start_time": "2022-10-03T04:28:01.910797",
     "status": "completed"
    },
    "tags": []
   },
   "outputs": [],
   "source": [
    "features = [\"HomePlanet\", \"CryoSleep\", \"Destination\", \"Age_group\", \"Room_Service_group\", \"Food_Court_group\", \"Shopping_group\", \"Spa_group\", \"VR_group\"]\n",
    "\n",
    "y = target\n",
    "X = combi[features][: len(train1)]\n",
    "X_test = combi[features][len(train1) :]"
   ]
  },
  {
   "cell_type": "markdown",
   "id": "942fda6c",
   "metadata": {
    "papermill": {
     "duration": 0.036104,
     "end_time": "2022-10-03T04:28:02.036818",
     "exception": false,
     "start_time": "2022-10-03T04:28:02.000714",
     "status": "completed"
    },
    "tags": []
   },
   "source": [
    "#### Heatmap"
   ]
  },
  {
   "cell_type": "code",
   "execution_count": 77,
   "id": "8d163dc7",
   "metadata": {
    "execution": {
     "iopub.execute_input": "2022-10-03T04:28:02.112444Z",
     "iopub.status.busy": "2022-10-03T04:28:02.112021Z",
     "iopub.status.idle": "2022-10-03T04:28:02.464108Z",
     "shell.execute_reply": "2022-10-03T04:28:02.462962Z"
    },
    "papermill": {
     "duration": 0.393522,
     "end_time": "2022-10-03T04:28:02.466829",
     "exception": false,
     "start_time": "2022-10-03T04:28:02.073307",
     "status": "completed"
    },
    "tags": []
   },
   "outputs": [
    {
     "data": {
      "text/plain": [
       "<AxesSubplot:>"
      ]
     },
     "execution_count": 77,
     "metadata": {},
     "output_type": "execute_result"
    },
    {
     "data": {
      "image/png": "[encoded data removed]",
      "text/plain": [
       "<Figure size 432x288 with 2 Axes>"
      ]
     },
     "metadata": {
      "needs_background": "light"
     },
     "output_type": "display_data"
    }
   ],
   "source": [
    "cmap = combi[features].corr()\n",
    "sns.heatmap(cmap)"
   ]
  },
  {
   "cell_type": "code",
   "execution_count": 78,
   "id": "02684c8f",
   "metadata": {
    "execution": {
     "iopub.execute_input": "2022-10-03T04:28:02.541733Z",
     "iopub.status.busy": "2022-10-03T04:28:02.540894Z",
     "iopub.status.idle": "2022-10-03T04:28:02.554615Z",
     "shell.execute_reply": "2022-10-03T04:28:02.553578Z"
    },
    "papermill": {
     "duration": 0.053733,
     "end_time": "2022-10-03T04:28:02.556882",
     "exception": false,
     "start_time": "2022-10-03T04:28:02.503149",
     "status": "completed"
    },
    "tags": []
   },
   "outputs": [
    {
     "data": {
      "text/plain": [
       "((5945, 9), (661, 9), (5945,), (661,), (4277, 9))"
      ]
     },
     "execution_count": 78,
     "metadata": {},
     "output_type": "execute_result"
    }
   ],
   "source": [
    "from sklearn.model_selection import train_test_split\n",
    "\n",
    "X_train, X_val, y_train, y_val = train_test_split(X, y, test_size=0.10, random_state=1, stratify=y, shuffle=True)\n",
    "X_train.shape, X_val.shape, y_train.shape, y_val.shape, X_test.shape"
   ]
  },
  {
   "cell_type": "markdown",
   "id": "b4388049",
   "metadata": {
    "papermill": {
     "duration": 0.036042,
     "end_time": "2022-10-03T04:28:02.629355",
     "exception": false,
     "start_time": "2022-10-03T04:28:02.593313",
     "status": "completed"
    },
    "tags": []
   },
   "source": [
    "### Select Model"
   ]
  },
  {
   "cell_type": "code",
   "execution_count": 79,
   "id": "57366923",
   "metadata": {
    "execution": {
     "iopub.execute_input": "2022-10-03T04:28:02.703739Z",
     "iopub.status.busy": "2022-10-03T04:28:02.703318Z",
     "iopub.status.idle": "2022-10-03T04:28:02.839966Z",
     "shell.execute_reply": "2022-10-03T04:28:02.838345Z"
    },
    "papermill": {
     "duration": 0.178786,
     "end_time": "2022-10-03T04:28:02.844223",
     "exception": false,
     "start_time": "2022-10-03T04:28:02.665437",
     "status": "completed"
    },
    "tags": []
   },
   "outputs": [
    {
     "name": "stdout",
     "output_type": "stream",
     "text": [
      "0.7391084945332212\n"
     ]
    }
   ],
   "source": [
    "from sklearn.linear_model import LogisticRegression\n",
    "\n",
    "model = LogisticRegression(random_state=42, C=10).fit(X_train, y_train)\n",
    "print(model.score(X_train, y_train))"
   ]
  },
  {
   "cell_type": "markdown",
   "id": "8598433f",
   "metadata": {
    "papermill": {
     "duration": 0.047311,
     "end_time": "2022-10-03T04:28:02.984995",
     "exception": false,
     "start_time": "2022-10-03T04:28:02.937684",
     "status": "completed"
    },
    "tags": []
   },
   "source": [
    "### Predict validation"
   ]
  },
  {
   "cell_type": "code",
   "execution_count": 80,
   "id": "2865dac7",
   "metadata": {
    "execution": {
     "iopub.execute_input": "2022-10-03T04:28:03.060107Z",
     "iopub.status.busy": "2022-10-03T04:28:03.059660Z",
     "iopub.status.idle": "2022-10-03T04:28:03.071330Z",
     "shell.execute_reply": "2022-10-03T04:28:03.069801Z"
    },
    "papermill": {
     "duration": 0.053118,
     "end_time": "2022-10-03T04:28:03.074715",
     "exception": false,
     "start_time": "2022-10-03T04:28:03.021597",
     "status": "completed"
    },
    "tags": []
   },
   "outputs": [
    {
     "name": "stdout",
     "output_type": "stream",
     "text": [
      "0.7443267776096822\n"
     ]
    }
   ],
   "source": [
    "y_pred = model.predict(X_val)\n",
    "print(model.score(X_val, y_val))"
   ]
  },
  {
   "cell_type": "markdown",
   "id": "b2336ee1",
   "metadata": {
    "papermill": {
     "duration": 0.036294,
     "end_time": "2022-10-03T04:28:03.147897",
     "exception": false,
     "start_time": "2022-10-03T04:28:03.111603",
     "status": "completed"
    },
    "tags": []
   },
   "source": [
    "### Confusion matrix"
   ]
  },
  {
   "cell_type": "code",
   "execution_count": 81,
   "id": "dd22bc62",
   "metadata": {
    "execution": {
     "iopub.execute_input": "2022-10-03T04:28:03.224425Z",
     "iopub.status.busy": "2022-10-03T04:28:03.223681Z",
     "iopub.status.idle": "2022-10-03T04:28:03.232934Z",
     "shell.execute_reply": "2022-10-03T04:28:03.231638Z"
    },
    "papermill": {
     "duration": 0.050081,
     "end_time": "2022-10-03T04:28:03.235446",
     "exception": false,
     "start_time": "2022-10-03T04:28:03.185365",
     "status": "completed"
    },
    "tags": []
   },
   "outputs": [
    {
     "name": "stdout",
     "output_type": "stream",
     "text": [
      "[[292  36]\n",
      " [133 200]]\n"
     ]
    }
   ],
   "source": [
    "from sklearn.metrics import confusion_matrix\n",
    "\n",
    "print(confusion_matrix(y_val, y_pred))"
   ]
  },
  {
   "cell_type": "markdown",
   "id": "d12f4882",
   "metadata": {
    "papermill": {
     "duration": 0.03617,
     "end_time": "2022-10-03T04:28:03.308140",
     "exception": false,
     "start_time": "2022-10-03T04:28:03.271970",
     "status": "completed"
    },
    "tags": []
   },
   "source": [
    "### Predict on X_test"
   ]
  },
  {
   "cell_type": "code",
   "execution_count": 82,
   "id": "a0c05686",
   "metadata": {
    "execution": {
     "iopub.execute_input": "2022-10-03T04:28:03.385557Z",
     "iopub.status.busy": "2022-10-03T04:28:03.384719Z",
     "iopub.status.idle": "2022-10-03T04:28:03.451765Z",
     "shell.execute_reply": "2022-10-03T04:28:03.450254Z"
    },
    "papermill": {
     "duration": 0.111073,
     "end_time": "2022-10-03T04:28:03.455888",
     "exception": false,
     "start_time": "2022-10-03T04:28:03.344815",
     "status": "completed"
    },
    "tags": []
   },
   "outputs": [
    {
     "data": {
      "text/plain": [
       "array(['True', 'False', 'True', ..., 'True', 'False', 'True'], dtype='<U5')"
      ]
     },
     "execution_count": 82,
     "metadata": {},
     "output_type": "execute_result"
    }
   ],
   "source": [
    "predictions = model.predict(X_test)\n",
    "predictions = predictions.astype(str)\n",
    "predictions = np.char.replace(predictions, '0', 'False')\n",
    "predictions = np.char.replace(predictions, '1', 'True')\n",
    "predictions"
   ]
  },
  {
   "cell_type": "markdown",
   "id": "15307b73",
   "metadata": {
    "papermill": {
     "duration": 0.036727,
     "end_time": "2022-10-03T04:28:03.566159",
     "exception": false,
     "start_time": "2022-10-03T04:28:03.529432",
     "status": "completed"
    },
    "tags": []
   },
   "source": [
    "### Prepare and submit"
   ]
  },
  {
   "cell_type": "code",
   "execution_count": 83,
   "id": "e29d9464",
   "metadata": {
    "execution": {
     "iopub.execute_input": "2022-10-03T04:28:03.642023Z",
     "iopub.status.busy": "2022-10-03T04:28:03.640735Z",
     "iopub.status.idle": "2022-10-03T04:28:03.667579Z",
     "shell.execute_reply": "2022-10-03T04:28:03.666325Z"
    },
    "papermill": {
     "duration": 0.067248,
     "end_time": "2022-10-03T04:28:03.670083",
     "exception": false,
     "start_time": "2022-10-03T04:28:03.602835",
     "status": "completed"
    },
    "tags": []
   },
   "outputs": [
    {
     "data": {
      "text/html": [
       "<div>\n",
       "<style scoped>\n",
       "    .dataframe tbody tr th:only-of-type {\n",
       "        vertical-align: middle;\n",
       "    }\n",
       "\n",
       "    .dataframe tbody tr th {\n",
       "        vertical-align: top;\n",
       "    }\n",
       "\n",
       "    .dataframe thead th {\n",
       "        text-align: right;\n",
       "    }\n",
       "</style>\n",
       "<table border=\"1\" class=\"dataframe\">\n",
       "  <thead>\n",
       "    <tr style=\"text-align: right;\">\n",
       "      <th></th>\n",
       "      <th>PassengerId</th>\n",
       "      <th>Transported</th>\n",
       "    </tr>\n",
       "  </thead>\n",
       "  <tbody>\n",
       "    <tr>\n",
       "      <th>0</th>\n",
       "      <td>0013_01</td>\n",
       "      <td>True</td>\n",
       "    </tr>\n",
       "    <tr>\n",
       "      <th>1</th>\n",
       "      <td>0018_01</td>\n",
       "      <td>False</td>\n",
       "    </tr>\n",
       "    <tr>\n",
       "      <th>2</th>\n",
       "      <td>0019_01</td>\n",
       "      <td>True</td>\n",
       "    </tr>\n",
       "    <tr>\n",
       "      <th>3</th>\n",
       "      <td>0021_01</td>\n",
       "      <td>True</td>\n",
       "    </tr>\n",
       "    <tr>\n",
       "      <th>4</th>\n",
       "      <td>0023_01</td>\n",
       "      <td>False</td>\n",
       "    </tr>\n",
       "    <tr>\n",
       "      <th>...</th>\n",
       "      <td>...</td>\n",
       "      <td>...</td>\n",
       "    </tr>\n",
       "    <tr>\n",
       "      <th>4272</th>\n",
       "      <td>9266_02</td>\n",
       "      <td>True</td>\n",
       "    </tr>\n",
       "    <tr>\n",
       "      <th>4273</th>\n",
       "      <td>9269_01</td>\n",
       "      <td>False</td>\n",
       "    </tr>\n",
       "    <tr>\n",
       "      <th>4274</th>\n",
       "      <td>9271_01</td>\n",
       "      <td>True</td>\n",
       "    </tr>\n",
       "    <tr>\n",
       "      <th>4275</th>\n",
       "      <td>9273_01</td>\n",
       "      <td>False</td>\n",
       "    </tr>\n",
       "    <tr>\n",
       "      <th>4276</th>\n",
       "      <td>9277_01</td>\n",
       "      <td>True</td>\n",
       "    </tr>\n",
       "  </tbody>\n",
       "</table>\n",
       "<p>4277 rows × 2 columns</p>\n",
       "</div>"
      ],
      "text/plain": [
       "     PassengerId  Transported\n",
       "0        0013_01         True\n",
       "1        0018_01        False\n",
       "2        0019_01         True\n",
       "3        0021_01         True\n",
       "4        0023_01        False\n",
       "...          ...          ...\n",
       "4272     9266_02         True\n",
       "4273     9269_01        False\n",
       "4274     9271_01         True\n",
       "4275     9273_01        False\n",
       "4276     9277_01         True\n",
       "\n",
       "[4277 rows x 2 columns]"
      ]
     },
     "execution_count": 83,
     "metadata": {},
     "output_type": "execute_result"
    }
   ],
   "source": [
    "submission['Transported'] = predictions\n",
    "submission.to_csv('submission.csv', index=False)\n",
    "my_submission = pd.read_csv(\"submission.csv\")\n",
    "my_submission"
   ]
  },
  {
   "cell_type": "code",
   "execution_count": null,
   "id": "34d6176a",
   "metadata": {
    "papermill": {
     "duration": 0.037044,
     "end_time": "2022-10-03T04:28:03.744278",
     "exception": false,
     "start_time": "2022-10-03T04:28:03.707234",
     "status": "completed"
    },
    "tags": []
   },
   "outputs": [],
   "source": []
  }
 ],
 "metadata": {
  "kernelspec": {
   "display_name": "Python 3",
   "language": "python",
   "name": "python3"
  },
  "language_info": {
   "codemirror_mode": {
    "name": "ipython",
    "version": 3
   },
   "file_extension": ".py",
   "mimetype": "text/x-python",
   "name": "python",
   "nbconvert_exporter": "python",
   "pygments_lexer": "ipython3",
   "version": "3.7.12"
  },
  "papermill": {
   "default_parameters": {},
   "duration": 25.667104,
   "end_time": "2022-10-03T04:28:04.604041",
   "environment_variables": {},
   "exception": null,
   "input_path": "__notebook__.ipynb",
   "output_path": "__notebook__.ipynb",
   "parameters": {},
   "start_time": "2022-10-03T04:27:38.936937",
   "version": "2.3.4"
  }
 },
 "nbformat": 4,
 "nbformat_minor": 5
}
